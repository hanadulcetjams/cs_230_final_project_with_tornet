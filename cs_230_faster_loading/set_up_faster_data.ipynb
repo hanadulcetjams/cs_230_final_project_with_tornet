{
 "cells": [
  {
   "cell_type": "code",
   "execution_count": 1,
   "id": "ed8fa858-0039-4f9f-8f3d-21b92c4a6b84",
   "metadata": {},
   "outputs": [],
   "source": [
    "data_directory = r\"C:\\Users\\handypark\\Documents\\Grad_School_Courses\\CS_230\\tornet\"\n",
    "\n",
    "output_directory = r\"C:\\Users\\handypark\\tornet_faster\""
   ]
  },
  {
   "cell_type": "code",
   "execution_count": 4,
   "id": "75e79017-59fa-4a8a-b6e0-d9cf5e836fdc",
   "metadata": {},
   "outputs": [
    {
     "ename": "NotImplementedError",
     "evalue": "No random access data source for file format FileFormat.TFRECORD. Please, use `tfds.data_source(..., builder_kwargs={\"file_format\": FileFormat.ARRAY_RECORD})` instead.",
     "output_type": "error",
     "traceback": [
      "\u001b[1;31m---------------------------------------------------------------------------\u001b[0m",
      "\u001b[1;31mNotImplementedError\u001b[0m                       Traceback (most recent call last)",
      "Cell \u001b[1;32mIn[4], line 9\u001b[0m\n\u001b[0;32m      6\u001b[0m \u001b[38;5;28;01mimport\u001b[39;00m \u001b[38;5;21;01mtornet\u001b[39;00m\u001b[38;5;21;01m.\u001b[39;00m\u001b[38;5;21;01mdata\u001b[39;00m\u001b[38;5;21;01m.\u001b[39;00m\u001b[38;5;21;01mtfds\u001b[39;00m\u001b[38;5;21;01m.\u001b[39;00m\u001b[38;5;21;01mtornet\u001b[39;00m\u001b[38;5;21;01m.\u001b[39;00m\u001b[38;5;21;01mtornet_dataset_builder\u001b[39;00m\n\u001b[0;32m      8\u001b[0m configuration \u001b[38;5;241m=\u001b[39m tfds\u001b[38;5;241m.\u001b[39mdownload\u001b[38;5;241m.\u001b[39mDownloadConfig(manual_dir\u001b[38;5;241m=\u001b[39mdata_directory)\n\u001b[1;32m----> 9\u001b[0m \u001b[43mtfds\u001b[49m\u001b[38;5;241;43m.\u001b[39;49m\u001b[43mdata_source\u001b[49m\u001b[43m(\u001b[49m\u001b[38;5;124;43m\"\u001b[39;49m\u001b[38;5;124;43mtornet\u001b[39;49m\u001b[38;5;124;43m\"\u001b[39;49m\u001b[43m,\u001b[49m\n\u001b[0;32m     10\u001b[0m \u001b[43m                \u001b[49m\u001b[43mdata_dir\u001b[49m\u001b[38;5;241;43m=\u001b[39;49m\u001b[43moutput_directory\u001b[49m\u001b[43m,\u001b[49m\n\u001b[0;32m     11\u001b[0m \u001b[43m                \u001b[49m\u001b[43mbuilder_kwargs\u001b[49m\u001b[38;5;241;43m=\u001b[39;49m\u001b[43m{\u001b[49m\u001b[38;5;124;43m\"\u001b[39;49m\u001b[38;5;124;43mfile_format\u001b[39;49m\u001b[38;5;124;43m\"\u001b[39;49m\u001b[43m:\u001b[49m\u001b[43m \u001b[49m\u001b[38;5;124;43m\"\u001b[39;49m\u001b[38;5;124;43mtfrecord\u001b[39;49m\u001b[38;5;124;43m\"\u001b[39;49m\u001b[43m}\u001b[49m\u001b[43m,\u001b[49m\n\u001b[0;32m     12\u001b[0m \u001b[43m                \u001b[49m\u001b[43mdownload_and_prepare_kwargs\u001b[49m\u001b[38;5;241;43m=\u001b[39;49m\u001b[43m{\u001b[49m\u001b[38;5;124;43m\"\u001b[39;49m\u001b[38;5;124;43mdownload_config\u001b[39;49m\u001b[38;5;124;43m\"\u001b[39;49m\u001b[43m \u001b[49m\u001b[43m:\u001b[49m\u001b[43m \u001b[49m\u001b[43mconfiguration\u001b[49m\u001b[43m}\u001b[49m\u001b[43m)\u001b[49m\n",
      "File \u001b[1;32m~\\.conda\\envs\\tornet_env\\lib\\site-packages\\tensorflow_datasets\\core\\logging\\__init__.py:176\u001b[0m, in \u001b[0;36m_FunctionDecorator.__call__\u001b[1;34m(self, function, instance, args, kwargs)\u001b[0m\n\u001b[0;32m    174\u001b[0m metadata \u001b[38;5;241m=\u001b[39m \u001b[38;5;28mself\u001b[39m\u001b[38;5;241m.\u001b[39m_start_call()\n\u001b[0;32m    175\u001b[0m \u001b[38;5;28;01mtry\u001b[39;00m:\n\u001b[1;32m--> 176\u001b[0m   \u001b[38;5;28;01mreturn\u001b[39;00m function(\u001b[38;5;241m*\u001b[39margs, \u001b[38;5;241m*\u001b[39m\u001b[38;5;241m*\u001b[39mkwargs)\n\u001b[0;32m    177\u001b[0m \u001b[38;5;28;01mexcept\u001b[39;00m \u001b[38;5;167;01mException\u001b[39;00m:\n\u001b[0;32m    178\u001b[0m   metadata\u001b[38;5;241m.\u001b[39mmark_error()\n",
      "File \u001b[1;32m~\\.conda\\envs\\tornet_env\\lib\\site-packages\\tensorflow_datasets\\core\\load.py:821\u001b[0m, in \u001b[0;36mdata_source\u001b[1;34m(name, split, data_dir, download, decoders, deserialize_method, builder_kwargs, download_and_prepare_kwargs, try_gcs)\u001b[0m\n\u001b[0;32m    725\u001b[0m \u001b[38;5;250m\u001b[39m\u001b[38;5;124;03m\"\"\"Gets a data source from the named dataset.\u001b[39;00m\n\u001b[0;32m    726\u001b[0m \n\u001b[0;32m    727\u001b[0m \u001b[38;5;124;03m`tfds.data_source` is a convenience method that:\u001b[39;00m\n\u001b[1;32m   (...)\u001b[0m\n\u001b[0;32m    818\u001b[0m \u001b[38;5;124;03m  `dict<key: tfds.Split, value: Sequence>` otherwise.\u001b[39;00m\n\u001b[0;32m    819\u001b[0m \u001b[38;5;124;03m\"\"\"\u001b[39;00m  \u001b[38;5;66;03m# fmt:skip\u001b[39;00m\n\u001b[0;32m    820\u001b[0m builder_kwargs \u001b[38;5;241m=\u001b[39m _set_file_format_for_data_source(data_dir, builder_kwargs)\n\u001b[1;32m--> 821\u001b[0m \u001b[43m_validate_file_format_for_data_source\u001b[49m\u001b[43m(\u001b[49m\u001b[43mbuilder_kwargs\u001b[49m\u001b[43m)\u001b[49m\n\u001b[0;32m    822\u001b[0m dbuilder \u001b[38;5;241m=\u001b[39m _fetch_builder(\n\u001b[0;32m    823\u001b[0m     name,\n\u001b[0;32m    824\u001b[0m     data_dir,\n\u001b[0;32m    825\u001b[0m     builder_kwargs,\n\u001b[0;32m    826\u001b[0m     try_gcs,\n\u001b[0;32m    827\u001b[0m )\n\u001b[0;32m    828\u001b[0m _download_and_prepare_builder(dbuilder, download, download_and_prepare_kwargs)\n",
      "File \u001b[1;32m~\\.conda\\envs\\tornet_env\\lib\\site-packages\\tensorflow_datasets\\core\\load.py:704\u001b[0m, in \u001b[0;36m_validate_file_format_for_data_source\u001b[1;34m(builder_kwargs)\u001b[0m\n\u001b[0;32m    702\u001b[0m file_format \u001b[38;5;241m=\u001b[39m file_adapters\u001b[38;5;241m.\u001b[39mFileFormat\u001b[38;5;241m.\u001b[39mfrom_value(file_format)\n\u001b[0;32m    703\u001b[0m \u001b[38;5;28;01mif\u001b[39;00m file_format \u001b[38;5;129;01mnot\u001b[39;00m \u001b[38;5;129;01min\u001b[39;00m file_adapters\u001b[38;5;241m.\u001b[39mFileFormat\u001b[38;5;241m.\u001b[39mwith_random_access():\n\u001b[1;32m--> 704\u001b[0m   \u001b[38;5;28;01mraise\u001b[39;00m \u001b[38;5;167;01mNotImplementedError\u001b[39;00m(\n\u001b[0;32m    705\u001b[0m       \u001b[38;5;124mf\u001b[39m\u001b[38;5;124m'\u001b[39m\u001b[38;5;124mNo random access data source for file format \u001b[39m\u001b[38;5;132;01m{\u001b[39;00mfile_format\u001b[38;5;132;01m}\u001b[39;00m\u001b[38;5;124m. Please,\u001b[39m\u001b[38;5;124m'\u001b[39m\n\u001b[0;32m    706\u001b[0m       \u001b[38;5;124m'\u001b[39m\u001b[38;5;124m use `tfds.data_source(...,\u001b[39m\u001b[38;5;124m'\u001b[39m\n\u001b[0;32m    707\u001b[0m       \u001b[38;5;124m'\u001b[39m\u001b[38;5;124m builder_kwargs=\u001b[39m\u001b[38;5;124m{\u001b[39m\u001b[38;5;124m\"\u001b[39m\u001b[38;5;124mfile_format\u001b[39m\u001b[38;5;124m\"\u001b[39m\u001b[38;5;124m:\u001b[39m\u001b[38;5;124m'\u001b[39m\n\u001b[0;32m    708\u001b[0m       \u001b[38;5;124mf\u001b[39m\u001b[38;5;124m'\u001b[39m\u001b[38;5;124m \u001b[39m\u001b[38;5;132;01m{\u001b[39;00mfile_adapters\u001b[38;5;241m.\u001b[39mFileFormat\u001b[38;5;241m.\u001b[39mARRAY_RECORD\u001b[38;5;132;01m}\u001b[39;00m\u001b[38;5;130;01m}}\u001b[39;00m\u001b[38;5;124m)` instead.\u001b[39m\u001b[38;5;124m'\u001b[39m\n\u001b[0;32m    709\u001b[0m   )\n",
      "\u001b[1;31mNotImplementedError\u001b[0m: No random access data source for file format FileFormat.TFRECORD. Please, use `tfds.data_source(..., builder_kwargs={\"file_format\": FileFormat.ARRAY_RECORD})` instead."
     ]
    }
   ],
   "source": [
    "import sys\n",
    "sys.path.append(r\"C:\\Users\\handypark\\Documents\\Github\\cs_230_final_project_with_tornet\\tornet\")\n",
    "\n",
    "import os\n",
    "import tensorflow_datasets as tfds\n",
    "import tornet.data.tfds.tornet.tornet_dataset_builder\n",
    "\n",
    "configuration = tfds.download.DownloadConfig(manual_dir=data_directory)\n",
    "tfds.data_source(\"tornet\",\n",
    "                data_dir=output_directory,\n",
    "                builder_kwargs={\"file_format\": \"tfrecord\"},\n",
    "                download_and_prepare_kwargs={\"download_config\" : configuration})"
   ]
  },
  {
   "cell_type": "code",
   "execution_count": null,
   "id": "5e50d536-e0c8-4e41-9959-dc13fe31ac61",
   "metadata": {},
   "outputs": [],
   "source": []
  }
 ],
 "metadata": {
  "kernelspec": {
   "display_name": "Python [conda env:.conda-tornet_env]",
   "language": "python",
   "name": "conda-env-.conda-tornet_env-py"
  },
  "language_info": {
   "codemirror_mode": {
    "name": "ipython",
    "version": 3
   },
   "file_extension": ".py",
   "mimetype": "text/x-python",
   "name": "python",
   "nbconvert_exporter": "python",
   "pygments_lexer": "ipython3",
   "version": "3.10.15"
  }
 },
 "nbformat": 4,
 "nbformat_minor": 5
}
