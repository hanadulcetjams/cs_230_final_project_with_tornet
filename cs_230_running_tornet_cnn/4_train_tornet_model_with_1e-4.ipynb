{
 "cells": [
  {
   "cell_type": "markdown",
   "id": "b99b3ba1-a966-4502-857f-ef0344d141be",
   "metadata": {},
   "source": [
    "# Running the TorNet model again (this time with learning rate 10^(-4))\n",
    "\n",
    "This notebook exists because the learning rate testing (comparing loss reduction after one epoch of training) gave us 10^-3\n",
    "as the first learning rate to try - but upon trying that learning rate (in a notebook we don't include in this repository),\n",
    "we found that this failed to converge for our batch size of 64 examples after just a couple of epochs of training. Even \n",
    "after the first epoch, we were seeing pretty much a \"stalling-out\" of the model training process.\n",
    "\n",
    "With this notebook, we're testing out whether a smaller learning rate of 10^-4 makes sense for validating\n",
    "the architecture (and for training our augmented dataset that includes mirrored examples).\n",
    "\n",
    "The goal is to validate the results of the TorNet paper by achieving a reasonable AUC that's at least similar\n",
    "to that of the initial paper (which had around a .874 AUC on the test dataset when fully trained, and a .81 AUC\n",
    "on the test dataset after around 2 epochs). If we can see similar results (even with more epochs, since our\n",
    "learning rate of 10^-4 is quite a bit slower than the original code's default of 10^-3), then we can be\n",
    "pretty confident that results that we're achieving using the same architecture with the augmented dataset \n",
    "are going to be an accurate reflection of whether the augmented dataset is helping or hurting compared to the\n",
    "original dataset."
   ]
  },
  {
   "cell_type": "code",
   "execution_count": 1,
   "id": "052ae79f-b46e-47ec-b29d-4538a9233d38",
   "metadata": {},
   "outputs": [
    {
     "name": "stderr",
     "output_type": "stream",
     "text": [
      "2024-11-18 11:44:20.968090: I tensorflow/core/util/port.cc:153] oneDNN custom operations are on. You may see slightly different numerical results due to floating-point round-off errors from different computation orders. To turn them off, set the environment variable `TF_ENABLE_ONEDNN_OPTS=0`.\n",
      "2024-11-18 11:44:21.074631: E external/local_xla/xla/stream_executor/cuda/cuda_fft.cc:477] Unable to register cuFFT factory: Attempting to register factory for plugin cuFFT when one has already been registered\n",
      "WARNING: All log messages before absl::InitializeLog() is called are written to STDERR\n",
      "E0000 00:00:1731959061.120788   15103 cuda_dnn.cc:8310] Unable to register cuDNN factory: Attempting to register factory for plugin cuDNN when one has already been registered\n",
      "E0000 00:00:1731959061.135104   15103 cuda_blas.cc:1418] Unable to register cuBLAS factory: Attempting to register factory for plugin cuBLAS when one has already been registered\n",
      "2024-11-18 11:44:21.241110: I tensorflow/core/platform/cpu_feature_guard.cc:210] This TensorFlow binary is optimized to use available CPU instructions in performance-critical operations.\n",
      "To enable the following instructions: AVX2 AVX_VNNI FMA, in other operations, rebuild TensorFlow with the appropriate compiler flags.\n"
     ]
    }
   ],
   "source": [
    "import sys\n",
    "\n",
    "import os\n",
    "import glob\n",
    "import numpy as np\n",
    "import pandas as pd\n",
    "import tensorflow as tf\n",
    "import matplotlib.pyplot as plt\n",
    "\n",
    "# just the location for the input data\n",
    "TORNET_DATA_INPUT_FOLDER = \"/mnt/c/users/handypark/Documents/Grad_School_Courses/CS_230/tornet\""
   ]
  },
  {
   "cell_type": "code",
   "execution_count": 2,
   "id": "8e4063f0-8bf4-48f6-ad78-b602b3216db1",
   "metadata": {},
   "outputs": [
    {
     "data": {
      "text/plain": [
       "'\\ngpus = tf.config.list_physical_devices(\\'GPU\\')\\nif gpus:\\n  try:\\n    # Currently, memory growth needs to be the same across GPUs\\n    for gpu in gpus:\\n      tf.config.experimental.set_memory_growth(gpu, True)\\n    logical_gpus = tf.config.list_logical_devices(\\'GPU\\')\\n    print(len(gpus), \"Physical GPUs,\", len(logical_gpus), \"Logical GPUs\")\\n  except RuntimeError as e:\\n    # Memory growth must be set before GPUs have been initialized\\n    print(e)\\n'"
      ]
     },
     "execution_count": 2,
     "metadata": {},
     "output_type": "execute_result"
    }
   ],
   "source": [
    "# Just making sure that we are indeed using GPU-based Tensorflow and not CPU-based Tensorflow.\n",
    "tf.test.is_built_with_cuda()\n",
    "\n",
    "# We tried experimental memory growth in some cases, but it didn't work out well (also crashed a lot).\n",
    "\"\"\"\n",
    "gpus = tf.config.list_physical_devices('GPU')\n",
    "if gpus:\n",
    "  try:\n",
    "    # Currently, memory growth needs to be the same across GPUs\n",
    "    for gpu in gpus:\n",
    "      tf.config.experimental.set_memory_growth(gpu, True)\n",
    "    logical_gpus = tf.config.list_logical_devices('GPU')\n",
    "    print(len(gpus), \"Physical GPUs,\", len(logical_gpus), \"Logical GPUs\")\n",
    "  except RuntimeError as e:\n",
    "    # Memory growth must be set before GPUs have been initialized\n",
    "    print(e)\n",
    "\"\"\""
   ]
  },
  {
   "cell_type": "markdown",
   "id": "677cb397-68c6-47a7-8a18-577995858d9e",
   "metadata": {},
   "source": [
    "## TorNet's helper functions\n",
    "\n",
    "Included below are the main TorNet helper functions we use to create the dataset when loading it into Tensorflow.\n",
    "There weren't many changes here - these are mostly as is from the tornet repo.\n",
    "They are annotated with new comments to show how they will be used later on."
   ]
  },
  {
   "cell_type": "code",
   "execution_count": 3,
   "id": "59daf357-3d58-45a9-a8fd-4f8062907a9c",
   "metadata": {},
   "outputs": [],
   "source": [
    "\"\"\"\n",
    "TorNet's data loading code, re-imported here manually for loading data into TensorFlow.\n",
    "For some reason, trying to import the data loading code using `from tornet.data.tf.loader` wasn't working as expected,\n",
    "so we re-copy that code over here to make use of it.\n",
    "\"\"\"\n",
    "from typing import List, Dict\n",
    "\n",
    "from tornet.data.loader import query_catalog, read_file\n",
    "from tornet.data.constants import ALL_VARIABLES\n",
    "from tornet.data import preprocess as pp\n",
    "\n",
    "def create_tf_dataset(files:str,\n",
    "                      variables: List[str]=ALL_VARIABLES,\n",
    "                      n_frames:int=1,\n",
    "                      tilt_last: bool=True) -> tf.data.Dataset:\n",
    "    \"\"\"\n",
    "    This is Tornet's main function for loading the data from the folder where it's all stored.\n",
    "    \n",
    "    As they stated, this creates a TF dataset object via the function read_file (which reads the NetCDF files\n",
    "    into the data one at a time).\n",
    "    \"\"\"\n",
    "    assert len(files)>0\n",
    "    # grab one file to gets keys, shapes, etc\n",
    "    data = read_file(files[0],variables=variables,n_frames=n_frames, tilt_last=tilt_last)\n",
    "    \n",
    "    output_signature = { k:tf.TensorSpec(shape=data[k].shape,dtype=data[k].dtype,name=k) for k in data }\n",
    "    def gen():\n",
    "        for f in files:\n",
    "            yield read_file(f,variables=variables,n_frames=n_frames, tilt_last=tilt_last)\n",
    "    ds = tf.data.Dataset.from_generator(gen,\n",
    "                                        output_signature=output_signature)\n",
    "    return ds\n",
    "    \n",
    "\n",
    "def preproc(ds: tf.data.Dataset,\n",
    "            weights:Dict=None,\n",
    "            include_az:bool=False,\n",
    "            select_keys:list=None,\n",
    "            tilt_last:bool=True):\n",
    "    \"\"\"\n",
    "    This is Tornet's preprocessing function for taking the raw dataset loaded from the files (in create_tf_dataset)\n",
    "    and then doing a few things:\n",
    "\n",
    "    - Remove the time dimension (since we only care about detection at a given time t)\n",
    "    - Add coordinates (so that we can run CoordConv layers later)\n",
    "    - Split the data into its inputs and label outputs\n",
    "    - Adding weights (if we decide to weight the data at all)\n",
    "\n",
    "    Once the preprocessing is done, the data is basically ready to be trained on.\n",
    "    \"\"\"\n",
    "    \n",
    "    # Remove time dimesnion\n",
    "    ds = ds.map(pp.remove_time_dim)\n",
    "\n",
    "    # Add coordinate tensors\n",
    "    ds = ds.map(lambda d: pp.add_coordinates(d,include_az=include_az,tilt_last=tilt_last,backend=tf))\n",
    "\n",
    "    # split into X,y\n",
    "    ds = ds.map(pp.split_x_y)\n",
    "\n",
    "    # Add sample weights\n",
    "    if weights:\n",
    "        ds = ds.map(lambda x,y:  pp.compute_sample_weight(x,y,**weights, backend=tf) )\n",
    "    \n",
    "        # select keys for input\n",
    "        if select_keys is not None:\n",
    "            ds = ds.map(lambda x,y,w: (pp.select_keys(x,keys=select_keys),y,w))\n",
    "    else:\n",
    "        if select_keys is not None:\n",
    "            ds = ds.map(lambda x,y: (pp.select_keys(x,keys=select_keys),y))\n",
    "\n",
    "    return ds"
   ]
  },
  {
   "cell_type": "code",
   "execution_count": 4,
   "id": "57fd9150-7c8c-4cea-bd85-4b862ad28639",
   "metadata": {},
   "outputs": [],
   "source": [
    "def make_tf_loader(data_root: str, \n",
    "            data_type:str='train', # or 'test'\n",
    "            years: list=list(range(2013,2023)),\n",
    "            batch_size: int=128, \n",
    "            weights: Dict=None,\n",
    "            include_az: bool=False,\n",
    "            random_state:int=1234,\n",
    "            select_keys: list=None,\n",
    "            tilt_last: bool=True,\n",
    "            from_tfds: bool=False,\n",
    "            tfds_data_version: str='1.1.0',\n",
    "            num_epochs: int=3):\n",
    "    \"\"\"\n",
    "    This TorNet library function is used to load the data into Tensorflow.\n",
    "    We're going to use the `create_tf_dataset` function from above, \n",
    "    then we'll use `preproc` to preprocess it.\n",
    "\n",
    "    One important note - we tried a bunch of different functions for shuffling \n",
    "    and batching, repeating the dataset, etc. to try to be able to run\n",
    "    many epochs with one function call. It wasn't working.\n",
    "    Even the `drop_remainder=True` that we've added here to ds.batch\n",
    "    seems to not really have an effect, as the model training\n",
    "    still throws an error at the end of training about running out of data.\n",
    "    \"\"\"\n",
    "    \n",
    "    if from_tfds: # fast loader\n",
    "        import tensorflow_datasets as tfds\n",
    "        import tornet.data.tfds.tornet.tornet_dataset_builder # registers 'tornet'\n",
    "        ds = tfds.load('tornet:%s' % tfds_data_version ,split='+'.join(['%s-%d' % (data_type,y) for y in years]))\n",
    "        # Assumes data was saved with tilt_last=True and converts it to tilt_last=False\n",
    "        if not tilt_last:\n",
    "            ds = ds.map(lambda d: pp.permute_dims(d,(0,3,1,2), backend=tf))\n",
    "    else: # Load directly from netcdf files\n",
    "        file_list = query_catalog(data_root, data_type, years, random_state)\n",
    "        ds = create_tf_dataset(file_list,variables=ALL_VARIABLES,n_frames=1, tilt_last=tilt_last) \n",
    "\n",
    "    ds = preproc(ds,weights,include_az,select_keys,tilt_last)\n",
    "    ds = ds.prefetch(tf.data.AUTOTUNE)\n",
    "\n",
    "    # this has been adjusted to include drop_remainder=True\n",
    "    ds = ds.batch(batch_size, drop_remainder=True)\n",
    "    return ds"
   ]
  },
  {
   "cell_type": "markdown",
   "id": "8b6414f3-a24c-4242-9c0a-0488d29b12ad",
   "metadata": {},
   "source": [
    "## TorNet Baseline CNN Model Definition:\n",
    "\n",
    "As stated in the comment for the code block below, this is just the TorNet model code that was used in the paper.\n",
    "Our goal is to run this model which consists of:\n",
    "- Normalizing the inputs\n",
    "- Adding the coordinate information for CoordConv to work properly\n",
    "- Running 4 VGG blocks which each have CoordConv2D and two MAXPOOL layers\n",
    "- Flatten, then dense layers at the end to get the binary classification output\n",
    "\n",
    "Later on, in our experiments to improve on this model, we'll likely still use some of this code\n",
    "when it comes to preprocessing the data (from a normalization + CoordConv2D standpoint).\n",
    "\n",
    "Notably, in the case of our data augmentation experiments, we'll only really need to change the input dataset\n",
    "(and not any of the model code itself).\n",
    "In comparison, for the YOLO transfer learning experiments, we'll likely not be able to use a good chunk of this\n",
    "dataset (but it might still be useful to use some of the layers made here, for instance)."
   ]
  },
  {
   "cell_type": "code",
   "execution_count": 5,
   "id": "8d7d2e8a-6fdf-4017-a395-7a9fa08d8e86",
   "metadata": {},
   "outputs": [],
   "source": [
    "\"\"\"\n",
    "This is just the TorNet model code that was used in the paper.\n",
    "Goal is to run this model which consists of:\n",
    "- Normalizing the inputs\n",
    "- Adding the coordinate information for CoordConv to work properly\n",
    "- Running 4 VGG blocks which each have CoordConv2D and two MAXPOOL layers\n",
    "- One last block of Conv2D layers and MAXPOOL to get the output probability\n",
    "\"\"\"\n",
    "\n",
    "from typing import Dict, List, Tuple\n",
    "import numpy as np\n",
    "import keras\n",
    "from tornet.models.keras.layers import CoordConv2D, FillNaNs\n",
    "from tornet.data.constants import CHANNEL_MIN_MAX, ALL_VARIABLES\n",
    "\n",
    "\n",
    "def build_model(shape:Tuple[int]=(120,240,2),\n",
    "                c_shape:Tuple[int]=(120,240,2),\n",
    "                input_variables:List[str]=ALL_VARIABLES,\n",
    "                start_filters:int=64,\n",
    "                l2_reg:float=0.001,\n",
    "                background_flag:float=-3.0,\n",
    "                include_range_folded:bool=True,\n",
    "                head='maxpool'):\n",
    "    # Create input layers for each input_variables\n",
    "    inputs = {}\n",
    "    for v in input_variables:\n",
    "        inputs[v]=keras.Input(shape,name=v)\n",
    "    n_sweeps=shape[2]\n",
    "    \n",
    "    # Normalize inputs and concate along channel dim\n",
    "    normalized_inputs=keras.layers.Concatenate(axis=-1,name='Concatenate1')(\n",
    "        [normalize(inputs[v],v) for v in input_variables]\n",
    "        )\n",
    "\n",
    "    # Replace nan pixel with background flag\n",
    "    normalized_inputs = FillNaNs(background_flag)(normalized_inputs)\n",
    "\n",
    "    # Add channel for range folded gates \n",
    "    if include_range_folded:\n",
    "        range_folded = keras.Input(shape[:2]+(n_sweeps,),name='range_folded_mask')\n",
    "        inputs['range_folded_mask']=range_folded\n",
    "        normalized_inputs = keras.layers.Concatenate(axis=-1,name='Concatenate2')(\n",
    "               [normalized_inputs,range_folded])\n",
    "        \n",
    "    # Input coordinate information\n",
    "    cin=keras.Input(c_shape,name='coordinates')\n",
    "    inputs['coordinates']=cin\n",
    "\n",
    "    x,c = normalized_inputs,cin\n",
    "    \n",
    "    x,c = vgg_block(x,c, filters=start_filters,   ksize=3, l2_reg=l2_reg, n_convs=2, drop_rate=0.1)   # (60,120)\n",
    "    x,c = vgg_block(x,c, filters=2*start_filters, ksize=3, l2_reg=l2_reg, n_convs=2, drop_rate=0.1)  # (30,60)\n",
    "    x,c = vgg_block(x,c, filters=4*start_filters, ksize=3, l2_reg=l2_reg, n_convs=3, drop_rate=0.1)  # (15,30)\n",
    "    x,c = vgg_block(x,c, filters=8*start_filters, ksize=3, l2_reg=l2_reg, n_convs=3, drop_rate=0.1)  # (7,15)\n",
    "    #x,c = vgg_block(x,c, filters=8*start_filters, ksize=3, l2_reg=l2_reg, n_convs=3)  # (3,7)\n",
    "    \n",
    "    if head=='mlp':\n",
    "        # MLP head\n",
    "        x = keras.layers.Flatten()(x) \n",
    "        x = keras.layers.Dense(units = 4096, activation ='relu')(x) \n",
    "        x = keras.layers.Dense(units = 2024, activation ='relu')(x) \n",
    "        output = keras.layers.Dense(1)(x)\n",
    "    elif head=='maxpool':\n",
    "        # Per gridcell\n",
    "        x = keras.layers.Conv2D(filters=512, kernel_size=1,\n",
    "                          kernel_regularizer=keras.regularizers.l2(l2_reg),\n",
    "                          activation='relu')(x)\n",
    "        x = keras.layers.Conv2D(filters=256, kernel_size=1,\n",
    "                          kernel_regularizer=keras.regularizers.l2(l2_reg),\n",
    "                          activation='relu')(x)\n",
    "        x = keras.layers.Conv2D(filters=1, kernel_size=1,name='heatmap')(x)\n",
    "        # Max in scene\n",
    "        output = keras.layers.GlobalMaxPooling2D()(x)\n",
    "\n",
    "    return keras.Model(inputs=inputs,outputs=output)\n",
    "\n",
    "\n",
    "def vgg_block(x,c, filters=64, ksize=3, n_convs=2, l2_reg=1e-6, drop_rate=0.0):\n",
    "\n",
    "    for _ in range(n_convs):\n",
    "        x,c = CoordConv2D(filters=filters,\n",
    "                          kernel_size=ksize,\n",
    "                          kernel_regularizer=keras.regularizers.l2(l2_reg),\n",
    "                          padding='same',\n",
    "                          activation='relu')([x,c])\n",
    "    x = keras.layers.MaxPool2D(pool_size =2, strides =2, padding ='same')(x)\n",
    "    c = keras.layers.MaxPool2D(pool_size =2, strides =2, padding ='same')(c)\n",
    "    if drop_rate>0:\n",
    "        x = keras.layers.Dropout(rate=drop_rate)(x)\n",
    "    return x,c\n",
    "\n",
    "\n",
    "def normalize(x,\n",
    "              name:str):\n",
    "    \"\"\"\n",
    "    Channel-wise normalization using known CHANNEL_MIN_MAX\n",
    "    \"\"\"\n",
    "    min_max = np.array(CHANNEL_MIN_MAX[name]) # [2,]\n",
    "    n_sweeps=x.shape[-1]\n",
    "    \n",
    "    # choose mean,var to get approximate [-1,1] scaling\n",
    "    var=((min_max[1]-min_max[0])/2)**2 # scalar\n",
    "    var=np.array(n_sweeps*[var,])    # [n_sweeps,]\n",
    "    \n",
    "    offset=(min_max[0]+min_max[1])/2    # scalar\n",
    "    offset=np.array(n_sweeps*[offset,]) # [n_sweeps,]\n",
    "\n",
    "    return keras.layers.Normalization(mean=offset,\n",
    "                                      variance=var,\n",
    "                                      name='Normalize_%s' % name)(x)"
   ]
  },
  {
   "cell_type": "markdown",
   "id": "8144dffa-e578-423e-8e11-53b6fb6ce4cb",
   "metadata": {},
   "source": [
    "## Running the Model\n",
    "\n",
    "Ok, we've got all of the TorNet model components figured out and imported (using the helper functions, etc.).\n",
    "[Even getting that working turned out to be tricky - there were dependency issues to resolve, and while we'd \n",
    "like to just be able to import the functions rather than re-copying them here again, that wasn't working so well.]"
   ]
  },
  {
   "cell_type": "code",
   "execution_count": 6,
   "id": "8f9c3be5-ebd6-4c7c-83ac-bf8708944ee7",
   "metadata": {},
   "outputs": [
    {
     "name": "stderr",
     "output_type": "stream",
     "text": [
      "I0000 00:00:1731959070.011985   15103 gpu_device.cc:2022] Created device /job:localhost/replica:0/task:0/device:GPU:0 with 5564 MB memory:  -> device: 0, name: NVIDIA GeForce RTX 3070, pci bus id: 0000:01:00.0, compute capability: 8.6\n"
     ]
    }
   ],
   "source": [
    "model = build_model()"
   ]
  },
  {
   "cell_type": "code",
   "execution_count": 7,
   "id": "37672757-38a1-4e97-a135-c527e7ae02a6",
   "metadata": {},
   "outputs": [
    {
     "data": {
      "text/html": [
       "<pre style=\"white-space:pre;overflow-x:auto;line-height:normal;font-family:Menlo,'DejaVu Sans Mono',consolas,'Courier New',monospace\"><span style=\"font-weight: bold\">Model: \"functional\"</span>\n",
       "</pre>\n"
      ],
      "text/plain": [
       "\u001b[1mModel: \"functional\"\u001b[0m\n"
      ]
     },
     "metadata": {},
     "output_type": "display_data"
    },
    {
     "data": {
      "text/html": [
       "<pre style=\"white-space:pre;overflow-x:auto;line-height:normal;font-family:Menlo,'DejaVu Sans Mono',consolas,'Courier New',monospace\">┏━━━━━━━━━━━━━━━━━━━━━┳━━━━━━━━━━━━━━━━━━━┳━━━━━━━━━━━━┳━━━━━━━━━━━━━━━━━━━┓\n",
       "┃<span style=\"font-weight: bold\"> Layer (type)        </span>┃<span style=\"font-weight: bold\"> Output Shape      </span>┃<span style=\"font-weight: bold\">    Param # </span>┃<span style=\"font-weight: bold\"> Connected to      </span>┃\n",
       "┡━━━━━━━━━━━━━━━━━━━━━╇━━━━━━━━━━━━━━━━━━━╇━━━━━━━━━━━━╇━━━━━━━━━━━━━━━━━━━┩\n",
       "│ DBZ (<span style=\"color: #0087ff; text-decoration-color: #0087ff\">InputLayer</span>)    │ (<span style=\"color: #00d7ff; text-decoration-color: #00d7ff\">None</span>, <span style=\"color: #00af00; text-decoration-color: #00af00\">120</span>, <span style=\"color: #00af00; text-decoration-color: #00af00\">240</span>,  │          <span style=\"color: #00af00; text-decoration-color: #00af00\">0</span> │ -                 │\n",
       "│                     │ <span style=\"color: #00af00; text-decoration-color: #00af00\">2</span>)                │            │                   │\n",
       "├─────────────────────┼───────────────────┼────────────┼───────────────────┤\n",
       "│ VEL (<span style=\"color: #0087ff; text-decoration-color: #0087ff\">InputLayer</span>)    │ (<span style=\"color: #00d7ff; text-decoration-color: #00d7ff\">None</span>, <span style=\"color: #00af00; text-decoration-color: #00af00\">120</span>, <span style=\"color: #00af00; text-decoration-color: #00af00\">240</span>,  │          <span style=\"color: #00af00; text-decoration-color: #00af00\">0</span> │ -                 │\n",
       "│                     │ <span style=\"color: #00af00; text-decoration-color: #00af00\">2</span>)                │            │                   │\n",
       "├─────────────────────┼───────────────────┼────────────┼───────────────────┤\n",
       "│ KDP (<span style=\"color: #0087ff; text-decoration-color: #0087ff\">InputLayer</span>)    │ (<span style=\"color: #00d7ff; text-decoration-color: #00d7ff\">None</span>, <span style=\"color: #00af00; text-decoration-color: #00af00\">120</span>, <span style=\"color: #00af00; text-decoration-color: #00af00\">240</span>,  │          <span style=\"color: #00af00; text-decoration-color: #00af00\">0</span> │ -                 │\n",
       "│                     │ <span style=\"color: #00af00; text-decoration-color: #00af00\">2</span>)                │            │                   │\n",
       "├─────────────────────┼───────────────────┼────────────┼───────────────────┤\n",
       "│ RHOHV (<span style=\"color: #0087ff; text-decoration-color: #0087ff\">InputLayer</span>)  │ (<span style=\"color: #00d7ff; text-decoration-color: #00d7ff\">None</span>, <span style=\"color: #00af00; text-decoration-color: #00af00\">120</span>, <span style=\"color: #00af00; text-decoration-color: #00af00\">240</span>,  │          <span style=\"color: #00af00; text-decoration-color: #00af00\">0</span> │ -                 │\n",
       "│                     │ <span style=\"color: #00af00; text-decoration-color: #00af00\">2</span>)                │            │                   │\n",
       "├─────────────────────┼───────────────────┼────────────┼───────────────────┤\n",
       "│ ZDR (<span style=\"color: #0087ff; text-decoration-color: #0087ff\">InputLayer</span>)    │ (<span style=\"color: #00d7ff; text-decoration-color: #00d7ff\">None</span>, <span style=\"color: #00af00; text-decoration-color: #00af00\">120</span>, <span style=\"color: #00af00; text-decoration-color: #00af00\">240</span>,  │          <span style=\"color: #00af00; text-decoration-color: #00af00\">0</span> │ -                 │\n",
       "│                     │ <span style=\"color: #00af00; text-decoration-color: #00af00\">2</span>)                │            │                   │\n",
       "├─────────────────────┼───────────────────┼────────────┼───────────────────┤\n",
       "│ WIDTH (<span style=\"color: #0087ff; text-decoration-color: #0087ff\">InputLayer</span>)  │ (<span style=\"color: #00d7ff; text-decoration-color: #00d7ff\">None</span>, <span style=\"color: #00af00; text-decoration-color: #00af00\">120</span>, <span style=\"color: #00af00; text-decoration-color: #00af00\">240</span>,  │          <span style=\"color: #00af00; text-decoration-color: #00af00\">0</span> │ -                 │\n",
       "│                     │ <span style=\"color: #00af00; text-decoration-color: #00af00\">2</span>)                │            │                   │\n",
       "├─────────────────────┼───────────────────┼────────────┼───────────────────┤\n",
       "│ Normalize_DBZ       │ (<span style=\"color: #00d7ff; text-decoration-color: #00d7ff\">None</span>, <span style=\"color: #00af00; text-decoration-color: #00af00\">120</span>, <span style=\"color: #00af00; text-decoration-color: #00af00\">240</span>,  │          <span style=\"color: #00af00; text-decoration-color: #00af00\">0</span> │ DBZ[<span style=\"color: #00af00; text-decoration-color: #00af00\">0</span>][<span style=\"color: #00af00; text-decoration-color: #00af00\">0</span>]         │\n",
       "│ (<span style=\"color: #0087ff; text-decoration-color: #0087ff\">Normalization</span>)     │ <span style=\"color: #00af00; text-decoration-color: #00af00\">2</span>)                │            │                   │\n",
       "├─────────────────────┼───────────────────┼────────────┼───────────────────┤\n",
       "│ Normalize_VEL       │ (<span style=\"color: #00d7ff; text-decoration-color: #00d7ff\">None</span>, <span style=\"color: #00af00; text-decoration-color: #00af00\">120</span>, <span style=\"color: #00af00; text-decoration-color: #00af00\">240</span>,  │          <span style=\"color: #00af00; text-decoration-color: #00af00\">0</span> │ VEL[<span style=\"color: #00af00; text-decoration-color: #00af00\">0</span>][<span style=\"color: #00af00; text-decoration-color: #00af00\">0</span>]         │\n",
       "│ (<span style=\"color: #0087ff; text-decoration-color: #0087ff\">Normalization</span>)     │ <span style=\"color: #00af00; text-decoration-color: #00af00\">2</span>)                │            │                   │\n",
       "├─────────────────────┼───────────────────┼────────────┼───────────────────┤\n",
       "│ Normalize_KDP       │ (<span style=\"color: #00d7ff; text-decoration-color: #00d7ff\">None</span>, <span style=\"color: #00af00; text-decoration-color: #00af00\">120</span>, <span style=\"color: #00af00; text-decoration-color: #00af00\">240</span>,  │          <span style=\"color: #00af00; text-decoration-color: #00af00\">0</span> │ KDP[<span style=\"color: #00af00; text-decoration-color: #00af00\">0</span>][<span style=\"color: #00af00; text-decoration-color: #00af00\">0</span>]         │\n",
       "│ (<span style=\"color: #0087ff; text-decoration-color: #0087ff\">Normalization</span>)     │ <span style=\"color: #00af00; text-decoration-color: #00af00\">2</span>)                │            │                   │\n",
       "├─────────────────────┼───────────────────┼────────────┼───────────────────┤\n",
       "│ Normalize_RHOHV     │ (<span style=\"color: #00d7ff; text-decoration-color: #00d7ff\">None</span>, <span style=\"color: #00af00; text-decoration-color: #00af00\">120</span>, <span style=\"color: #00af00; text-decoration-color: #00af00\">240</span>,  │          <span style=\"color: #00af00; text-decoration-color: #00af00\">0</span> │ RHOHV[<span style=\"color: #00af00; text-decoration-color: #00af00\">0</span>][<span style=\"color: #00af00; text-decoration-color: #00af00\">0</span>]       │\n",
       "│ (<span style=\"color: #0087ff; text-decoration-color: #0087ff\">Normalization</span>)     │ <span style=\"color: #00af00; text-decoration-color: #00af00\">2</span>)                │            │                   │\n",
       "├─────────────────────┼───────────────────┼────────────┼───────────────────┤\n",
       "│ Normalize_ZDR       │ (<span style=\"color: #00d7ff; text-decoration-color: #00d7ff\">None</span>, <span style=\"color: #00af00; text-decoration-color: #00af00\">120</span>, <span style=\"color: #00af00; text-decoration-color: #00af00\">240</span>,  │          <span style=\"color: #00af00; text-decoration-color: #00af00\">0</span> │ ZDR[<span style=\"color: #00af00; text-decoration-color: #00af00\">0</span>][<span style=\"color: #00af00; text-decoration-color: #00af00\">0</span>]         │\n",
       "│ (<span style=\"color: #0087ff; text-decoration-color: #0087ff\">Normalization</span>)     │ <span style=\"color: #00af00; text-decoration-color: #00af00\">2</span>)                │            │                   │\n",
       "├─────────────────────┼───────────────────┼────────────┼───────────────────┤\n",
       "│ Normalize_WIDTH     │ (<span style=\"color: #00d7ff; text-decoration-color: #00d7ff\">None</span>, <span style=\"color: #00af00; text-decoration-color: #00af00\">120</span>, <span style=\"color: #00af00; text-decoration-color: #00af00\">240</span>,  │          <span style=\"color: #00af00; text-decoration-color: #00af00\">0</span> │ WIDTH[<span style=\"color: #00af00; text-decoration-color: #00af00\">0</span>][<span style=\"color: #00af00; text-decoration-color: #00af00\">0</span>]       │\n",
       "│ (<span style=\"color: #0087ff; text-decoration-color: #0087ff\">Normalization</span>)     │ <span style=\"color: #00af00; text-decoration-color: #00af00\">2</span>)                │            │                   │\n",
       "├─────────────────────┼───────────────────┼────────────┼───────────────────┤\n",
       "│ Concatenate1        │ (<span style=\"color: #00d7ff; text-decoration-color: #00d7ff\">None</span>, <span style=\"color: #00af00; text-decoration-color: #00af00\">120</span>, <span style=\"color: #00af00; text-decoration-color: #00af00\">240</span>,  │          <span style=\"color: #00af00; text-decoration-color: #00af00\">0</span> │ Normalize_DBZ[<span style=\"color: #00af00; text-decoration-color: #00af00\">0</span>]… │\n",
       "│ (<span style=\"color: #0087ff; text-decoration-color: #0087ff\">Concatenate</span>)       │ <span style=\"color: #00af00; text-decoration-color: #00af00\">12</span>)               │            │ Normalize_VEL[<span style=\"color: #00af00; text-decoration-color: #00af00\">0</span>]… │\n",
       "│                     │                   │            │ Normalize_KDP[<span style=\"color: #00af00; text-decoration-color: #00af00\">0</span>]… │\n",
       "│                     │                   │            │ Normalize_RHOHV[<span style=\"color: #00af00; text-decoration-color: #00af00\">…</span> │\n",
       "│                     │                   │            │ Normalize_ZDR[<span style=\"color: #00af00; text-decoration-color: #00af00\">0</span>]… │\n",
       "│                     │                   │            │ Normalize_WIDTH[<span style=\"color: #00af00; text-decoration-color: #00af00\">…</span> │\n",
       "├─────────────────────┼───────────────────┼────────────┼───────────────────┤\n",
       "│ isnan (<span style=\"color: #0087ff; text-decoration-color: #0087ff\">Isnan</span>)       │ (<span style=\"color: #00d7ff; text-decoration-color: #00d7ff\">None</span>, <span style=\"color: #00af00; text-decoration-color: #00af00\">120</span>, <span style=\"color: #00af00; text-decoration-color: #00af00\">240</span>,  │          <span style=\"color: #00af00; text-decoration-color: #00af00\">0</span> │ Concatenate1[<span style=\"color: #00af00; text-decoration-color: #00af00\">0</span>][<span style=\"color: #00af00; text-decoration-color: #00af00\">…</span> │\n",
       "│                     │ <span style=\"color: #00af00; text-decoration-color: #00af00\">12</span>)               │            │                   │\n",
       "├─────────────────────┼───────────────────┼────────────┼───────────────────┤\n",
       "│ where (<span style=\"color: #0087ff; text-decoration-color: #0087ff\">Where</span>)       │ (<span style=\"color: #00d7ff; text-decoration-color: #00d7ff\">None</span>, <span style=\"color: #00af00; text-decoration-color: #00af00\">120</span>, <span style=\"color: #00af00; text-decoration-color: #00af00\">240</span>,  │          <span style=\"color: #00af00; text-decoration-color: #00af00\">0</span> │ isnan[<span style=\"color: #00af00; text-decoration-color: #00af00\">0</span>][<span style=\"color: #00af00; text-decoration-color: #00af00\">0</span>],      │\n",
       "│                     │ <span style=\"color: #00af00; text-decoration-color: #00af00\">12</span>)               │            │ Concatenate1[<span style=\"color: #00af00; text-decoration-color: #00af00\">0</span>][<span style=\"color: #00af00; text-decoration-color: #00af00\">…</span> │\n",
       "├─────────────────────┼───────────────────┼────────────┼───────────────────┤\n",
       "│ range_folded_mask   │ (<span style=\"color: #00d7ff; text-decoration-color: #00d7ff\">None</span>, <span style=\"color: #00af00; text-decoration-color: #00af00\">120</span>, <span style=\"color: #00af00; text-decoration-color: #00af00\">240</span>,  │          <span style=\"color: #00af00; text-decoration-color: #00af00\">0</span> │ -                 │\n",
       "│ (<span style=\"color: #0087ff; text-decoration-color: #0087ff\">InputLayer</span>)        │ <span style=\"color: #00af00; text-decoration-color: #00af00\">2</span>)                │            │                   │\n",
       "├─────────────────────┼───────────────────┼────────────┼───────────────────┤\n",
       "│ Concatenate2        │ (<span style=\"color: #00d7ff; text-decoration-color: #00d7ff\">None</span>, <span style=\"color: #00af00; text-decoration-color: #00af00\">120</span>, <span style=\"color: #00af00; text-decoration-color: #00af00\">240</span>,  │          <span style=\"color: #00af00; text-decoration-color: #00af00\">0</span> │ where[<span style=\"color: #00af00; text-decoration-color: #00af00\">0</span>][<span style=\"color: #00af00; text-decoration-color: #00af00\">0</span>],      │\n",
       "│ (<span style=\"color: #0087ff; text-decoration-color: #0087ff\">Concatenate</span>)       │ <span style=\"color: #00af00; text-decoration-color: #00af00\">14</span>)               │            │ range_folded_mas… │\n",
       "├─────────────────────┼───────────────────┼────────────┼───────────────────┤\n",
       "│ coordinates         │ (<span style=\"color: #00d7ff; text-decoration-color: #00d7ff\">None</span>, <span style=\"color: #00af00; text-decoration-color: #00af00\">120</span>, <span style=\"color: #00af00; text-decoration-color: #00af00\">240</span>,  │          <span style=\"color: #00af00; text-decoration-color: #00af00\">0</span> │ -                 │\n",
       "│ (<span style=\"color: #0087ff; text-decoration-color: #0087ff\">InputLayer</span>)        │ <span style=\"color: #00af00; text-decoration-color: #00af00\">2</span>)                │            │                   │\n",
       "├─────────────────────┼───────────────────┼────────────┼───────────────────┤\n",
       "│ coord_conv2d        │ [(<span style=\"color: #00d7ff; text-decoration-color: #00d7ff\">None</span>, <span style=\"color: #00af00; text-decoration-color: #00af00\">120</span>, <span style=\"color: #00af00; text-decoration-color: #00af00\">240</span>, │      <span style=\"color: #00af00; text-decoration-color: #00af00\">9,280</span> │ Concatenate2[<span style=\"color: #00af00; text-decoration-color: #00af00\">0</span>][<span style=\"color: #00af00; text-decoration-color: #00af00\">…</span> │\n",
       "│ (<span style=\"color: #0087ff; text-decoration-color: #0087ff\">CoordConv2D</span>)       │ <span style=\"color: #00af00; text-decoration-color: #00af00\">64</span>), (<span style=\"color: #00d7ff; text-decoration-color: #00d7ff\">None</span>, <span style=\"color: #00af00; text-decoration-color: #00af00\">120</span>,  │            │ coordinates[<span style=\"color: #00af00; text-decoration-color: #00af00\">0</span>][<span style=\"color: #00af00; text-decoration-color: #00af00\">0</span>] │\n",
       "│                     │ <span style=\"color: #00af00; text-decoration-color: #00af00\">240</span>, <span style=\"color: #00af00; text-decoration-color: #00af00\">2</span>)]          │            │                   │\n",
       "├─────────────────────┼───────────────────┼────────────┼───────────────────┤\n",
       "│ coord_conv2d_1      │ [(<span style=\"color: #00d7ff; text-decoration-color: #00d7ff\">None</span>, <span style=\"color: #00af00; text-decoration-color: #00af00\">120</span>, <span style=\"color: #00af00; text-decoration-color: #00af00\">240</span>, │     <span style=\"color: #00af00; text-decoration-color: #00af00\">38,080</span> │ coord_conv2d[<span style=\"color: #00af00; text-decoration-color: #00af00\">0</span>][<span style=\"color: #00af00; text-decoration-color: #00af00\">…</span> │\n",
       "│ (<span style=\"color: #0087ff; text-decoration-color: #0087ff\">CoordConv2D</span>)       │ <span style=\"color: #00af00; text-decoration-color: #00af00\">64</span>), (<span style=\"color: #00d7ff; text-decoration-color: #00d7ff\">None</span>, <span style=\"color: #00af00; text-decoration-color: #00af00\">120</span>,  │            │ coord_conv2d[<span style=\"color: #00af00; text-decoration-color: #00af00\">0</span>][<span style=\"color: #00af00; text-decoration-color: #00af00\">…</span> │\n",
       "│                     │ <span style=\"color: #00af00; text-decoration-color: #00af00\">240</span>, <span style=\"color: #00af00; text-decoration-color: #00af00\">2</span>)]          │            │                   │\n",
       "├─────────────────────┼───────────────────┼────────────┼───────────────────┤\n",
       "│ max_pooling2d       │ (<span style=\"color: #00d7ff; text-decoration-color: #00d7ff\">None</span>, <span style=\"color: #00af00; text-decoration-color: #00af00\">60</span>, <span style=\"color: #00af00; text-decoration-color: #00af00\">120</span>,   │          <span style=\"color: #00af00; text-decoration-color: #00af00\">0</span> │ coord_conv2d_1[<span style=\"color: #00af00; text-decoration-color: #00af00\">0</span>… │\n",
       "│ (<span style=\"color: #0087ff; text-decoration-color: #0087ff\">MaxPooling2D</span>)      │ <span style=\"color: #00af00; text-decoration-color: #00af00\">64</span>)               │            │                   │\n",
       "├─────────────────────┼───────────────────┼────────────┼───────────────────┤\n",
       "│ dropout (<span style=\"color: #0087ff; text-decoration-color: #0087ff\">Dropout</span>)   │ (<span style=\"color: #00d7ff; text-decoration-color: #00d7ff\">None</span>, <span style=\"color: #00af00; text-decoration-color: #00af00\">60</span>, <span style=\"color: #00af00; text-decoration-color: #00af00\">120</span>,   │          <span style=\"color: #00af00; text-decoration-color: #00af00\">0</span> │ max_pooling2d[<span style=\"color: #00af00; text-decoration-color: #00af00\">0</span>]… │\n",
       "│                     │ <span style=\"color: #00af00; text-decoration-color: #00af00\">64</span>)               │            │                   │\n",
       "├─────────────────────┼───────────────────┼────────────┼───────────────────┤\n",
       "│ max_pooling2d_1     │ (<span style=\"color: #00d7ff; text-decoration-color: #00d7ff\">None</span>, <span style=\"color: #00af00; text-decoration-color: #00af00\">60</span>, <span style=\"color: #00af00; text-decoration-color: #00af00\">120</span>,   │          <span style=\"color: #00af00; text-decoration-color: #00af00\">0</span> │ coord_conv2d_1[<span style=\"color: #00af00; text-decoration-color: #00af00\">0</span>… │\n",
       "│ (<span style=\"color: #0087ff; text-decoration-color: #0087ff\">MaxPooling2D</span>)      │ <span style=\"color: #00af00; text-decoration-color: #00af00\">2</span>)                │            │                   │\n",
       "├─────────────────────┼───────────────────┼────────────┼───────────────────┤\n",
       "│ coord_conv2d_2      │ [(<span style=\"color: #00d7ff; text-decoration-color: #00d7ff\">None</span>, <span style=\"color: #00af00; text-decoration-color: #00af00\">60</span>, <span style=\"color: #00af00; text-decoration-color: #00af00\">120</span>,  │     <span style=\"color: #00af00; text-decoration-color: #00af00\">76,160</span> │ dropout[<span style=\"color: #00af00; text-decoration-color: #00af00\">0</span>][<span style=\"color: #00af00; text-decoration-color: #00af00\">0</span>],    │\n",
       "│ (<span style=\"color: #0087ff; text-decoration-color: #0087ff\">CoordConv2D</span>)       │ <span style=\"color: #00af00; text-decoration-color: #00af00\">128</span>), (<span style=\"color: #00d7ff; text-decoration-color: #00d7ff\">None</span>, <span style=\"color: #00af00; text-decoration-color: #00af00\">60</span>,  │            │ max_pooling2d_1[<span style=\"color: #00af00; text-decoration-color: #00af00\">…</span> │\n",
       "│                     │ <span style=\"color: #00af00; text-decoration-color: #00af00\">120</span>, <span style=\"color: #00af00; text-decoration-color: #00af00\">2</span>)]          │            │                   │\n",
       "├─────────────────────┼───────────────────┼────────────┼───────────────────┤\n",
       "│ coord_conv2d_3      │ [(<span style=\"color: #00d7ff; text-decoration-color: #00d7ff\">None</span>, <span style=\"color: #00af00; text-decoration-color: #00af00\">60</span>, <span style=\"color: #00af00; text-decoration-color: #00af00\">120</span>,  │    <span style=\"color: #00af00; text-decoration-color: #00af00\">149,888</span> │ coord_conv2d_2[<span style=\"color: #00af00; text-decoration-color: #00af00\">0</span>… │\n",
       "│ (<span style=\"color: #0087ff; text-decoration-color: #0087ff\">CoordConv2D</span>)       │ <span style=\"color: #00af00; text-decoration-color: #00af00\">128</span>), (<span style=\"color: #00d7ff; text-decoration-color: #00d7ff\">None</span>, <span style=\"color: #00af00; text-decoration-color: #00af00\">60</span>,  │            │ coord_conv2d_2[<span style=\"color: #00af00; text-decoration-color: #00af00\">0</span>… │\n",
       "│                     │ <span style=\"color: #00af00; text-decoration-color: #00af00\">120</span>, <span style=\"color: #00af00; text-decoration-color: #00af00\">2</span>)]          │            │                   │\n",
       "├─────────────────────┼───────────────────┼────────────┼───────────────────┤\n",
       "│ max_pooling2d_2     │ (<span style=\"color: #00d7ff; text-decoration-color: #00d7ff\">None</span>, <span style=\"color: #00af00; text-decoration-color: #00af00\">30</span>, <span style=\"color: #00af00; text-decoration-color: #00af00\">60</span>,    │          <span style=\"color: #00af00; text-decoration-color: #00af00\">0</span> │ coord_conv2d_3[<span style=\"color: #00af00; text-decoration-color: #00af00\">0</span>… │\n",
       "│ (<span style=\"color: #0087ff; text-decoration-color: #0087ff\">MaxPooling2D</span>)      │ <span style=\"color: #00af00; text-decoration-color: #00af00\">128</span>)              │            │                   │\n",
       "├─────────────────────┼───────────────────┼────────────┼───────────────────┤\n",
       "│ dropout_1 (<span style=\"color: #0087ff; text-decoration-color: #0087ff\">Dropout</span>) │ (<span style=\"color: #00d7ff; text-decoration-color: #00d7ff\">None</span>, <span style=\"color: #00af00; text-decoration-color: #00af00\">30</span>, <span style=\"color: #00af00; text-decoration-color: #00af00\">60</span>,    │          <span style=\"color: #00af00; text-decoration-color: #00af00\">0</span> │ max_pooling2d_2[<span style=\"color: #00af00; text-decoration-color: #00af00\">…</span> │\n",
       "│                     │ <span style=\"color: #00af00; text-decoration-color: #00af00\">128</span>)              │            │                   │\n",
       "├─────────────────────┼───────────────────┼────────────┼───────────────────┤\n",
       "│ max_pooling2d_3     │ (<span style=\"color: #00d7ff; text-decoration-color: #00d7ff\">None</span>, <span style=\"color: #00af00; text-decoration-color: #00af00\">30</span>, <span style=\"color: #00af00; text-decoration-color: #00af00\">60</span>, <span style=\"color: #00af00; text-decoration-color: #00af00\">2</span>) │          <span style=\"color: #00af00; text-decoration-color: #00af00\">0</span> │ coord_conv2d_3[<span style=\"color: #00af00; text-decoration-color: #00af00\">0</span>… │\n",
       "│ (<span style=\"color: #0087ff; text-decoration-color: #0087ff\">MaxPooling2D</span>)      │                   │            │                   │\n",
       "├─────────────────────┼───────────────────┼────────────┼───────────────────┤\n",
       "│ coord_conv2d_4      │ [(<span style=\"color: #00d7ff; text-decoration-color: #00d7ff\">None</span>, <span style=\"color: #00af00; text-decoration-color: #00af00\">30</span>, <span style=\"color: #00af00; text-decoration-color: #00af00\">60</span>,   │    <span style=\"color: #00af00; text-decoration-color: #00af00\">299,776</span> │ dropout_1[<span style=\"color: #00af00; text-decoration-color: #00af00\">0</span>][<span style=\"color: #00af00; text-decoration-color: #00af00\">0</span>],  │\n",
       "│ (<span style=\"color: #0087ff; text-decoration-color: #0087ff\">CoordConv2D</span>)       │ <span style=\"color: #00af00; text-decoration-color: #00af00\">256</span>), (<span style=\"color: #00d7ff; text-decoration-color: #00d7ff\">None</span>, <span style=\"color: #00af00; text-decoration-color: #00af00\">30</span>,  │            │ max_pooling2d_3[<span style=\"color: #00af00; text-decoration-color: #00af00\">…</span> │\n",
       "│                     │ <span style=\"color: #00af00; text-decoration-color: #00af00\">60</span>, <span style=\"color: #00af00; text-decoration-color: #00af00\">2</span>)]           │            │                   │\n",
       "├─────────────────────┼───────────────────┼────────────┼───────────────────┤\n",
       "│ coord_conv2d_5      │ [(<span style=\"color: #00d7ff; text-decoration-color: #00d7ff\">None</span>, <span style=\"color: #00af00; text-decoration-color: #00af00\">30</span>, <span style=\"color: #00af00; text-decoration-color: #00af00\">60</span>,   │    <span style=\"color: #00af00; text-decoration-color: #00af00\">594,688</span> │ coord_conv2d_4[<span style=\"color: #00af00; text-decoration-color: #00af00\">0</span>… │\n",
       "│ (<span style=\"color: #0087ff; text-decoration-color: #0087ff\">CoordConv2D</span>)       │ <span style=\"color: #00af00; text-decoration-color: #00af00\">256</span>), (<span style=\"color: #00d7ff; text-decoration-color: #00d7ff\">None</span>, <span style=\"color: #00af00; text-decoration-color: #00af00\">30</span>,  │            │ coord_conv2d_4[<span style=\"color: #00af00; text-decoration-color: #00af00\">0</span>… │\n",
       "│                     │ <span style=\"color: #00af00; text-decoration-color: #00af00\">60</span>, <span style=\"color: #00af00; text-decoration-color: #00af00\">2</span>)]           │            │                   │\n",
       "├─────────────────────┼───────────────────┼────────────┼───────────────────┤\n",
       "│ coord_conv2d_6      │ [(<span style=\"color: #00d7ff; text-decoration-color: #00d7ff\">None</span>, <span style=\"color: #00af00; text-decoration-color: #00af00\">30</span>, <span style=\"color: #00af00; text-decoration-color: #00af00\">60</span>,   │    <span style=\"color: #00af00; text-decoration-color: #00af00\">594,688</span> │ coord_conv2d_5[<span style=\"color: #00af00; text-decoration-color: #00af00\">0</span>… │\n",
       "│ (<span style=\"color: #0087ff; text-decoration-color: #0087ff\">CoordConv2D</span>)       │ <span style=\"color: #00af00; text-decoration-color: #00af00\">256</span>), (<span style=\"color: #00d7ff; text-decoration-color: #00d7ff\">None</span>, <span style=\"color: #00af00; text-decoration-color: #00af00\">30</span>,  │            │ coord_conv2d_5[<span style=\"color: #00af00; text-decoration-color: #00af00\">0</span>… │\n",
       "│                     │ <span style=\"color: #00af00; text-decoration-color: #00af00\">60</span>, <span style=\"color: #00af00; text-decoration-color: #00af00\">2</span>)]           │            │                   │\n",
       "├─────────────────────┼───────────────────┼────────────┼───────────────────┤\n",
       "│ max_pooling2d_4     │ (<span style=\"color: #00d7ff; text-decoration-color: #00d7ff\">None</span>, <span style=\"color: #00af00; text-decoration-color: #00af00\">15</span>, <span style=\"color: #00af00; text-decoration-color: #00af00\">30</span>,    │          <span style=\"color: #00af00; text-decoration-color: #00af00\">0</span> │ coord_conv2d_6[<span style=\"color: #00af00; text-decoration-color: #00af00\">0</span>… │\n",
       "│ (<span style=\"color: #0087ff; text-decoration-color: #0087ff\">MaxPooling2D</span>)      │ <span style=\"color: #00af00; text-decoration-color: #00af00\">256</span>)              │            │                   │\n",
       "├─────────────────────┼───────────────────┼────────────┼───────────────────┤\n",
       "│ dropout_2 (<span style=\"color: #0087ff; text-decoration-color: #0087ff\">Dropout</span>) │ (<span style=\"color: #00d7ff; text-decoration-color: #00d7ff\">None</span>, <span style=\"color: #00af00; text-decoration-color: #00af00\">15</span>, <span style=\"color: #00af00; text-decoration-color: #00af00\">30</span>,    │          <span style=\"color: #00af00; text-decoration-color: #00af00\">0</span> │ max_pooling2d_4[<span style=\"color: #00af00; text-decoration-color: #00af00\">…</span> │\n",
       "│                     │ <span style=\"color: #00af00; text-decoration-color: #00af00\">256</span>)              │            │                   │\n",
       "├─────────────────────┼───────────────────┼────────────┼───────────────────┤\n",
       "│ max_pooling2d_5     │ (<span style=\"color: #00d7ff; text-decoration-color: #00d7ff\">None</span>, <span style=\"color: #00af00; text-decoration-color: #00af00\">15</span>, <span style=\"color: #00af00; text-decoration-color: #00af00\">30</span>, <span style=\"color: #00af00; text-decoration-color: #00af00\">2</span>) │          <span style=\"color: #00af00; text-decoration-color: #00af00\">0</span> │ coord_conv2d_6[<span style=\"color: #00af00; text-decoration-color: #00af00\">0</span>… │\n",
       "│ (<span style=\"color: #0087ff; text-decoration-color: #0087ff\">MaxPooling2D</span>)      │                   │            │                   │\n",
       "├─────────────────────┼───────────────────┼────────────┼───────────────────┤\n",
       "│ coord_conv2d_7      │ [(<span style=\"color: #00d7ff; text-decoration-color: #00d7ff\">None</span>, <span style=\"color: #00af00; text-decoration-color: #00af00\">15</span>, <span style=\"color: #00af00; text-decoration-color: #00af00\">30</span>,   │  <span style=\"color: #00af00; text-decoration-color: #00af00\">1,189,376</span> │ dropout_2[<span style=\"color: #00af00; text-decoration-color: #00af00\">0</span>][<span style=\"color: #00af00; text-decoration-color: #00af00\">0</span>],  │\n",
       "│ (<span style=\"color: #0087ff; text-decoration-color: #0087ff\">CoordConv2D</span>)       │ <span style=\"color: #00af00; text-decoration-color: #00af00\">512</span>), (<span style=\"color: #00d7ff; text-decoration-color: #00d7ff\">None</span>, <span style=\"color: #00af00; text-decoration-color: #00af00\">15</span>,  │            │ max_pooling2d_5[<span style=\"color: #00af00; text-decoration-color: #00af00\">…</span> │\n",
       "│                     │ <span style=\"color: #00af00; text-decoration-color: #00af00\">30</span>, <span style=\"color: #00af00; text-decoration-color: #00af00\">2</span>)]           │            │                   │\n",
       "├─────────────────────┼───────────────────┼────────────┼───────────────────┤\n",
       "│ coord_conv2d_8      │ [(<span style=\"color: #00d7ff; text-decoration-color: #00d7ff\">None</span>, <span style=\"color: #00af00; text-decoration-color: #00af00\">15</span>, <span style=\"color: #00af00; text-decoration-color: #00af00\">30</span>,   │  <span style=\"color: #00af00; text-decoration-color: #00af00\">2,369,024</span> │ coord_conv2d_7[<span style=\"color: #00af00; text-decoration-color: #00af00\">0</span>… │\n",
       "│ (<span style=\"color: #0087ff; text-decoration-color: #0087ff\">CoordConv2D</span>)       │ <span style=\"color: #00af00; text-decoration-color: #00af00\">512</span>), (<span style=\"color: #00d7ff; text-decoration-color: #00d7ff\">None</span>, <span style=\"color: #00af00; text-decoration-color: #00af00\">15</span>,  │            │ coord_conv2d_7[<span style=\"color: #00af00; text-decoration-color: #00af00\">0</span>… │\n",
       "│                     │ <span style=\"color: #00af00; text-decoration-color: #00af00\">30</span>, <span style=\"color: #00af00; text-decoration-color: #00af00\">2</span>)]           │            │                   │\n",
       "├─────────────────────┼───────────────────┼────────────┼───────────────────┤\n",
       "│ coord_conv2d_9      │ [(<span style=\"color: #00d7ff; text-decoration-color: #00d7ff\">None</span>, <span style=\"color: #00af00; text-decoration-color: #00af00\">15</span>, <span style=\"color: #00af00; text-decoration-color: #00af00\">30</span>,   │  <span style=\"color: #00af00; text-decoration-color: #00af00\">2,369,024</span> │ coord_conv2d_8[<span style=\"color: #00af00; text-decoration-color: #00af00\">0</span>… │\n",
       "│ (<span style=\"color: #0087ff; text-decoration-color: #0087ff\">CoordConv2D</span>)       │ <span style=\"color: #00af00; text-decoration-color: #00af00\">512</span>), (<span style=\"color: #00d7ff; text-decoration-color: #00d7ff\">None</span>, <span style=\"color: #00af00; text-decoration-color: #00af00\">15</span>,  │            │ coord_conv2d_8[<span style=\"color: #00af00; text-decoration-color: #00af00\">0</span>… │\n",
       "│                     │ <span style=\"color: #00af00; text-decoration-color: #00af00\">30</span>, <span style=\"color: #00af00; text-decoration-color: #00af00\">2</span>)]           │            │                   │\n",
       "├─────────────────────┼───────────────────┼────────────┼───────────────────┤\n",
       "│ max_pooling2d_6     │ (<span style=\"color: #00d7ff; text-decoration-color: #00d7ff\">None</span>, <span style=\"color: #00af00; text-decoration-color: #00af00\">8</span>, <span style=\"color: #00af00; text-decoration-color: #00af00\">15</span>,     │          <span style=\"color: #00af00; text-decoration-color: #00af00\">0</span> │ coord_conv2d_9[<span style=\"color: #00af00; text-decoration-color: #00af00\">0</span>… │\n",
       "│ (<span style=\"color: #0087ff; text-decoration-color: #0087ff\">MaxPooling2D</span>)      │ <span style=\"color: #00af00; text-decoration-color: #00af00\">512</span>)              │            │                   │\n",
       "├─────────────────────┼───────────────────┼────────────┼───────────────────┤\n",
       "│ dropout_3 (<span style=\"color: #0087ff; text-decoration-color: #0087ff\">Dropout</span>) │ (<span style=\"color: #00d7ff; text-decoration-color: #00d7ff\">None</span>, <span style=\"color: #00af00; text-decoration-color: #00af00\">8</span>, <span style=\"color: #00af00; text-decoration-color: #00af00\">15</span>,     │          <span style=\"color: #00af00; text-decoration-color: #00af00\">0</span> │ max_pooling2d_6[<span style=\"color: #00af00; text-decoration-color: #00af00\">…</span> │\n",
       "│                     │ <span style=\"color: #00af00; text-decoration-color: #00af00\">512</span>)              │            │                   │\n",
       "├─────────────────────┼───────────────────┼────────────┼───────────────────┤\n",
       "│ conv2d_10 (<span style=\"color: #0087ff; text-decoration-color: #0087ff\">Conv2D</span>)  │ (<span style=\"color: #00d7ff; text-decoration-color: #00d7ff\">None</span>, <span style=\"color: #00af00; text-decoration-color: #00af00\">8</span>, <span style=\"color: #00af00; text-decoration-color: #00af00\">15</span>,     │    <span style=\"color: #00af00; text-decoration-color: #00af00\">262,656</span> │ dropout_3[<span style=\"color: #00af00; text-decoration-color: #00af00\">0</span>][<span style=\"color: #00af00; text-decoration-color: #00af00\">0</span>]   │\n",
       "│                     │ <span style=\"color: #00af00; text-decoration-color: #00af00\">512</span>)              │            │                   │\n",
       "├─────────────────────┼───────────────────┼────────────┼───────────────────┤\n",
       "│ conv2d_11 (<span style=\"color: #0087ff; text-decoration-color: #0087ff\">Conv2D</span>)  │ (<span style=\"color: #00d7ff; text-decoration-color: #00d7ff\">None</span>, <span style=\"color: #00af00; text-decoration-color: #00af00\">8</span>, <span style=\"color: #00af00; text-decoration-color: #00af00\">15</span>,     │    <span style=\"color: #00af00; text-decoration-color: #00af00\">131,328</span> │ conv2d_10[<span style=\"color: #00af00; text-decoration-color: #00af00\">0</span>][<span style=\"color: #00af00; text-decoration-color: #00af00\">0</span>]   │\n",
       "│                     │ <span style=\"color: #00af00; text-decoration-color: #00af00\">256</span>)              │            │                   │\n",
       "├─────────────────────┼───────────────────┼────────────┼───────────────────┤\n",
       "│ heatmap (<span style=\"color: #0087ff; text-decoration-color: #0087ff\">Conv2D</span>)    │ (<span style=\"color: #00d7ff; text-decoration-color: #00d7ff\">None</span>, <span style=\"color: #00af00; text-decoration-color: #00af00\">8</span>, <span style=\"color: #00af00; text-decoration-color: #00af00\">15</span>, <span style=\"color: #00af00; text-decoration-color: #00af00\">1</span>)  │        <span style=\"color: #00af00; text-decoration-color: #00af00\">257</span> │ conv2d_11[<span style=\"color: #00af00; text-decoration-color: #00af00\">0</span>][<span style=\"color: #00af00; text-decoration-color: #00af00\">0</span>]   │\n",
       "├─────────────────────┼───────────────────┼────────────┼───────────────────┤\n",
       "│ global_max_pooling… │ (<span style=\"color: #00d7ff; text-decoration-color: #00d7ff\">None</span>, <span style=\"color: #00af00; text-decoration-color: #00af00\">1</span>)         │          <span style=\"color: #00af00; text-decoration-color: #00af00\">0</span> │ heatmap[<span style=\"color: #00af00; text-decoration-color: #00af00\">0</span>][<span style=\"color: #00af00; text-decoration-color: #00af00\">0</span>]     │\n",
       "│ (<span style=\"color: #0087ff; text-decoration-color: #0087ff\">GlobalMaxPooling2…</span> │                   │            │                   │\n",
       "└─────────────────────┴───────────────────┴────────────┴───────────────────┘\n",
       "</pre>\n"
      ],
      "text/plain": [
       "┏━━━━━━━━━━━━━━━━━━━━━┳━━━━━━━━━━━━━━━━━━━┳━━━━━━━━━━━━┳━━━━━━━━━━━━━━━━━━━┓\n",
       "┃\u001b[1m \u001b[0m\u001b[1mLayer (type)       \u001b[0m\u001b[1m \u001b[0m┃\u001b[1m \u001b[0m\u001b[1mOutput Shape     \u001b[0m\u001b[1m \u001b[0m┃\u001b[1m \u001b[0m\u001b[1m   Param #\u001b[0m\u001b[1m \u001b[0m┃\u001b[1m \u001b[0m\u001b[1mConnected to     \u001b[0m\u001b[1m \u001b[0m┃\n",
       "┡━━━━━━━━━━━━━━━━━━━━━╇━━━━━━━━━━━━━━━━━━━╇━━━━━━━━━━━━╇━━━━━━━━━━━━━━━━━━━┩\n",
       "│ DBZ (\u001b[38;5;33mInputLayer\u001b[0m)    │ (\u001b[38;5;45mNone\u001b[0m, \u001b[38;5;34m120\u001b[0m, \u001b[38;5;34m240\u001b[0m,  │          \u001b[38;5;34m0\u001b[0m │ -                 │\n",
       "│                     │ \u001b[38;5;34m2\u001b[0m)                │            │                   │\n",
       "├─────────────────────┼───────────────────┼────────────┼───────────────────┤\n",
       "│ VEL (\u001b[38;5;33mInputLayer\u001b[0m)    │ (\u001b[38;5;45mNone\u001b[0m, \u001b[38;5;34m120\u001b[0m, \u001b[38;5;34m240\u001b[0m,  │          \u001b[38;5;34m0\u001b[0m │ -                 │\n",
       "│                     │ \u001b[38;5;34m2\u001b[0m)                │            │                   │\n",
       "├─────────────────────┼───────────────────┼────────────┼───────────────────┤\n",
       "│ KDP (\u001b[38;5;33mInputLayer\u001b[0m)    │ (\u001b[38;5;45mNone\u001b[0m, \u001b[38;5;34m120\u001b[0m, \u001b[38;5;34m240\u001b[0m,  │          \u001b[38;5;34m0\u001b[0m │ -                 │\n",
       "│                     │ \u001b[38;5;34m2\u001b[0m)                │            │                   │\n",
       "├─────────────────────┼───────────────────┼────────────┼───────────────────┤\n",
       "│ RHOHV (\u001b[38;5;33mInputLayer\u001b[0m)  │ (\u001b[38;5;45mNone\u001b[0m, \u001b[38;5;34m120\u001b[0m, \u001b[38;5;34m240\u001b[0m,  │          \u001b[38;5;34m0\u001b[0m │ -                 │\n",
       "│                     │ \u001b[38;5;34m2\u001b[0m)                │            │                   │\n",
       "├─────────────────────┼───────────────────┼────────────┼───────────────────┤\n",
       "│ ZDR (\u001b[38;5;33mInputLayer\u001b[0m)    │ (\u001b[38;5;45mNone\u001b[0m, \u001b[38;5;34m120\u001b[0m, \u001b[38;5;34m240\u001b[0m,  │          \u001b[38;5;34m0\u001b[0m │ -                 │\n",
       "│                     │ \u001b[38;5;34m2\u001b[0m)                │            │                   │\n",
       "├─────────────────────┼───────────────────┼────────────┼───────────────────┤\n",
       "│ WIDTH (\u001b[38;5;33mInputLayer\u001b[0m)  │ (\u001b[38;5;45mNone\u001b[0m, \u001b[38;5;34m120\u001b[0m, \u001b[38;5;34m240\u001b[0m,  │          \u001b[38;5;34m0\u001b[0m │ -                 │\n",
       "│                     │ \u001b[38;5;34m2\u001b[0m)                │            │                   │\n",
       "├─────────────────────┼───────────────────┼────────────┼───────────────────┤\n",
       "│ Normalize_DBZ       │ (\u001b[38;5;45mNone\u001b[0m, \u001b[38;5;34m120\u001b[0m, \u001b[38;5;34m240\u001b[0m,  │          \u001b[38;5;34m0\u001b[0m │ DBZ[\u001b[38;5;34m0\u001b[0m][\u001b[38;5;34m0\u001b[0m]         │\n",
       "│ (\u001b[38;5;33mNormalization\u001b[0m)     │ \u001b[38;5;34m2\u001b[0m)                │            │                   │\n",
       "├─────────────────────┼───────────────────┼────────────┼───────────────────┤\n",
       "│ Normalize_VEL       │ (\u001b[38;5;45mNone\u001b[0m, \u001b[38;5;34m120\u001b[0m, \u001b[38;5;34m240\u001b[0m,  │          \u001b[38;5;34m0\u001b[0m │ VEL[\u001b[38;5;34m0\u001b[0m][\u001b[38;5;34m0\u001b[0m]         │\n",
       "│ (\u001b[38;5;33mNormalization\u001b[0m)     │ \u001b[38;5;34m2\u001b[0m)                │            │                   │\n",
       "├─────────────────────┼───────────────────┼────────────┼───────────────────┤\n",
       "│ Normalize_KDP       │ (\u001b[38;5;45mNone\u001b[0m, \u001b[38;5;34m120\u001b[0m, \u001b[38;5;34m240\u001b[0m,  │          \u001b[38;5;34m0\u001b[0m │ KDP[\u001b[38;5;34m0\u001b[0m][\u001b[38;5;34m0\u001b[0m]         │\n",
       "│ (\u001b[38;5;33mNormalization\u001b[0m)     │ \u001b[38;5;34m2\u001b[0m)                │            │                   │\n",
       "├─────────────────────┼───────────────────┼────────────┼───────────────────┤\n",
       "│ Normalize_RHOHV     │ (\u001b[38;5;45mNone\u001b[0m, \u001b[38;5;34m120\u001b[0m, \u001b[38;5;34m240\u001b[0m,  │          \u001b[38;5;34m0\u001b[0m │ RHOHV[\u001b[38;5;34m0\u001b[0m][\u001b[38;5;34m0\u001b[0m]       │\n",
       "│ (\u001b[38;5;33mNormalization\u001b[0m)     │ \u001b[38;5;34m2\u001b[0m)                │            │                   │\n",
       "├─────────────────────┼───────────────────┼────────────┼───────────────────┤\n",
       "│ Normalize_ZDR       │ (\u001b[38;5;45mNone\u001b[0m, \u001b[38;5;34m120\u001b[0m, \u001b[38;5;34m240\u001b[0m,  │          \u001b[38;5;34m0\u001b[0m │ ZDR[\u001b[38;5;34m0\u001b[0m][\u001b[38;5;34m0\u001b[0m]         │\n",
       "│ (\u001b[38;5;33mNormalization\u001b[0m)     │ \u001b[38;5;34m2\u001b[0m)                │            │                   │\n",
       "├─────────────────────┼───────────────────┼────────────┼───────────────────┤\n",
       "│ Normalize_WIDTH     │ (\u001b[38;5;45mNone\u001b[0m, \u001b[38;5;34m120\u001b[0m, \u001b[38;5;34m240\u001b[0m,  │          \u001b[38;5;34m0\u001b[0m │ WIDTH[\u001b[38;5;34m0\u001b[0m][\u001b[38;5;34m0\u001b[0m]       │\n",
       "│ (\u001b[38;5;33mNormalization\u001b[0m)     │ \u001b[38;5;34m2\u001b[0m)                │            │                   │\n",
       "├─────────────────────┼───────────────────┼────────────┼───────────────────┤\n",
       "│ Concatenate1        │ (\u001b[38;5;45mNone\u001b[0m, \u001b[38;5;34m120\u001b[0m, \u001b[38;5;34m240\u001b[0m,  │          \u001b[38;5;34m0\u001b[0m │ Normalize_DBZ[\u001b[38;5;34m0\u001b[0m]… │\n",
       "│ (\u001b[38;5;33mConcatenate\u001b[0m)       │ \u001b[38;5;34m12\u001b[0m)               │            │ Normalize_VEL[\u001b[38;5;34m0\u001b[0m]… │\n",
       "│                     │                   │            │ Normalize_KDP[\u001b[38;5;34m0\u001b[0m]… │\n",
       "│                     │                   │            │ Normalize_RHOHV[\u001b[38;5;34m…\u001b[0m │\n",
       "│                     │                   │            │ Normalize_ZDR[\u001b[38;5;34m0\u001b[0m]… │\n",
       "│                     │                   │            │ Normalize_WIDTH[\u001b[38;5;34m…\u001b[0m │\n",
       "├─────────────────────┼───────────────────┼────────────┼───────────────────┤\n",
       "│ isnan (\u001b[38;5;33mIsnan\u001b[0m)       │ (\u001b[38;5;45mNone\u001b[0m, \u001b[38;5;34m120\u001b[0m, \u001b[38;5;34m240\u001b[0m,  │          \u001b[38;5;34m0\u001b[0m │ Concatenate1[\u001b[38;5;34m0\u001b[0m][\u001b[38;5;34m…\u001b[0m │\n",
       "│                     │ \u001b[38;5;34m12\u001b[0m)               │            │                   │\n",
       "├─────────────────────┼───────────────────┼────────────┼───────────────────┤\n",
       "│ where (\u001b[38;5;33mWhere\u001b[0m)       │ (\u001b[38;5;45mNone\u001b[0m, \u001b[38;5;34m120\u001b[0m, \u001b[38;5;34m240\u001b[0m,  │          \u001b[38;5;34m0\u001b[0m │ isnan[\u001b[38;5;34m0\u001b[0m][\u001b[38;5;34m0\u001b[0m],      │\n",
       "│                     │ \u001b[38;5;34m12\u001b[0m)               │            │ Concatenate1[\u001b[38;5;34m0\u001b[0m][\u001b[38;5;34m…\u001b[0m │\n",
       "├─────────────────────┼───────────────────┼────────────┼───────────────────┤\n",
       "│ range_folded_mask   │ (\u001b[38;5;45mNone\u001b[0m, \u001b[38;5;34m120\u001b[0m, \u001b[38;5;34m240\u001b[0m,  │          \u001b[38;5;34m0\u001b[0m │ -                 │\n",
       "│ (\u001b[38;5;33mInputLayer\u001b[0m)        │ \u001b[38;5;34m2\u001b[0m)                │            │                   │\n",
       "├─────────────────────┼───────────────────┼────────────┼───────────────────┤\n",
       "│ Concatenate2        │ (\u001b[38;5;45mNone\u001b[0m, \u001b[38;5;34m120\u001b[0m, \u001b[38;5;34m240\u001b[0m,  │          \u001b[38;5;34m0\u001b[0m │ where[\u001b[38;5;34m0\u001b[0m][\u001b[38;5;34m0\u001b[0m],      │\n",
       "│ (\u001b[38;5;33mConcatenate\u001b[0m)       │ \u001b[38;5;34m14\u001b[0m)               │            │ range_folded_mas… │\n",
       "├─────────────────────┼───────────────────┼────────────┼───────────────────┤\n",
       "│ coordinates         │ (\u001b[38;5;45mNone\u001b[0m, \u001b[38;5;34m120\u001b[0m, \u001b[38;5;34m240\u001b[0m,  │          \u001b[38;5;34m0\u001b[0m │ -                 │\n",
       "│ (\u001b[38;5;33mInputLayer\u001b[0m)        │ \u001b[38;5;34m2\u001b[0m)                │            │                   │\n",
       "├─────────────────────┼───────────────────┼────────────┼───────────────────┤\n",
       "│ coord_conv2d        │ [(\u001b[38;5;45mNone\u001b[0m, \u001b[38;5;34m120\u001b[0m, \u001b[38;5;34m240\u001b[0m, │      \u001b[38;5;34m9,280\u001b[0m │ Concatenate2[\u001b[38;5;34m0\u001b[0m][\u001b[38;5;34m…\u001b[0m │\n",
       "│ (\u001b[38;5;33mCoordConv2D\u001b[0m)       │ \u001b[38;5;34m64\u001b[0m), (\u001b[38;5;45mNone\u001b[0m, \u001b[38;5;34m120\u001b[0m,  │            │ coordinates[\u001b[38;5;34m0\u001b[0m][\u001b[38;5;34m0\u001b[0m] │\n",
       "│                     │ \u001b[38;5;34m240\u001b[0m, \u001b[38;5;34m2\u001b[0m)]          │            │                   │\n",
       "├─────────────────────┼───────────────────┼────────────┼───────────────────┤\n",
       "│ coord_conv2d_1      │ [(\u001b[38;5;45mNone\u001b[0m, \u001b[38;5;34m120\u001b[0m, \u001b[38;5;34m240\u001b[0m, │     \u001b[38;5;34m38,080\u001b[0m │ coord_conv2d[\u001b[38;5;34m0\u001b[0m][\u001b[38;5;34m…\u001b[0m │\n",
       "│ (\u001b[38;5;33mCoordConv2D\u001b[0m)       │ \u001b[38;5;34m64\u001b[0m), (\u001b[38;5;45mNone\u001b[0m, \u001b[38;5;34m120\u001b[0m,  │            │ coord_conv2d[\u001b[38;5;34m0\u001b[0m][\u001b[38;5;34m…\u001b[0m │\n",
       "│                     │ \u001b[38;5;34m240\u001b[0m, \u001b[38;5;34m2\u001b[0m)]          │            │                   │\n",
       "├─────────────────────┼───────────────────┼────────────┼───────────────────┤\n",
       "│ max_pooling2d       │ (\u001b[38;5;45mNone\u001b[0m, \u001b[38;5;34m60\u001b[0m, \u001b[38;5;34m120\u001b[0m,   │          \u001b[38;5;34m0\u001b[0m │ coord_conv2d_1[\u001b[38;5;34m0\u001b[0m… │\n",
       "│ (\u001b[38;5;33mMaxPooling2D\u001b[0m)      │ \u001b[38;5;34m64\u001b[0m)               │            │                   │\n",
       "├─────────────────────┼───────────────────┼────────────┼───────────────────┤\n",
       "│ dropout (\u001b[38;5;33mDropout\u001b[0m)   │ (\u001b[38;5;45mNone\u001b[0m, \u001b[38;5;34m60\u001b[0m, \u001b[38;5;34m120\u001b[0m,   │          \u001b[38;5;34m0\u001b[0m │ max_pooling2d[\u001b[38;5;34m0\u001b[0m]… │\n",
       "│                     │ \u001b[38;5;34m64\u001b[0m)               │            │                   │\n",
       "├─────────────────────┼───────────────────┼────────────┼───────────────────┤\n",
       "│ max_pooling2d_1     │ (\u001b[38;5;45mNone\u001b[0m, \u001b[38;5;34m60\u001b[0m, \u001b[38;5;34m120\u001b[0m,   │          \u001b[38;5;34m0\u001b[0m │ coord_conv2d_1[\u001b[38;5;34m0\u001b[0m… │\n",
       "│ (\u001b[38;5;33mMaxPooling2D\u001b[0m)      │ \u001b[38;5;34m2\u001b[0m)                │            │                   │\n",
       "├─────────────────────┼───────────────────┼────────────┼───────────────────┤\n",
       "│ coord_conv2d_2      │ [(\u001b[38;5;45mNone\u001b[0m, \u001b[38;5;34m60\u001b[0m, \u001b[38;5;34m120\u001b[0m,  │     \u001b[38;5;34m76,160\u001b[0m │ dropout[\u001b[38;5;34m0\u001b[0m][\u001b[38;5;34m0\u001b[0m],    │\n",
       "│ (\u001b[38;5;33mCoordConv2D\u001b[0m)       │ \u001b[38;5;34m128\u001b[0m), (\u001b[38;5;45mNone\u001b[0m, \u001b[38;5;34m60\u001b[0m,  │            │ max_pooling2d_1[\u001b[38;5;34m…\u001b[0m │\n",
       "│                     │ \u001b[38;5;34m120\u001b[0m, \u001b[38;5;34m2\u001b[0m)]          │            │                   │\n",
       "├─────────────────────┼───────────────────┼────────────┼───────────────────┤\n",
       "│ coord_conv2d_3      │ [(\u001b[38;5;45mNone\u001b[0m, \u001b[38;5;34m60\u001b[0m, \u001b[38;5;34m120\u001b[0m,  │    \u001b[38;5;34m149,888\u001b[0m │ coord_conv2d_2[\u001b[38;5;34m0\u001b[0m… │\n",
       "│ (\u001b[38;5;33mCoordConv2D\u001b[0m)       │ \u001b[38;5;34m128\u001b[0m), (\u001b[38;5;45mNone\u001b[0m, \u001b[38;5;34m60\u001b[0m,  │            │ coord_conv2d_2[\u001b[38;5;34m0\u001b[0m… │\n",
       "│                     │ \u001b[38;5;34m120\u001b[0m, \u001b[38;5;34m2\u001b[0m)]          │            │                   │\n",
       "├─────────────────────┼───────────────────┼────────────┼───────────────────┤\n",
       "│ max_pooling2d_2     │ (\u001b[38;5;45mNone\u001b[0m, \u001b[38;5;34m30\u001b[0m, \u001b[38;5;34m60\u001b[0m,    │          \u001b[38;5;34m0\u001b[0m │ coord_conv2d_3[\u001b[38;5;34m0\u001b[0m… │\n",
       "│ (\u001b[38;5;33mMaxPooling2D\u001b[0m)      │ \u001b[38;5;34m128\u001b[0m)              │            │                   │\n",
       "├─────────────────────┼───────────────────┼────────────┼───────────────────┤\n",
       "│ dropout_1 (\u001b[38;5;33mDropout\u001b[0m) │ (\u001b[38;5;45mNone\u001b[0m, \u001b[38;5;34m30\u001b[0m, \u001b[38;5;34m60\u001b[0m,    │          \u001b[38;5;34m0\u001b[0m │ max_pooling2d_2[\u001b[38;5;34m…\u001b[0m │\n",
       "│                     │ \u001b[38;5;34m128\u001b[0m)              │            │                   │\n",
       "├─────────────────────┼───────────────────┼────────────┼───────────────────┤\n",
       "│ max_pooling2d_3     │ (\u001b[38;5;45mNone\u001b[0m, \u001b[38;5;34m30\u001b[0m, \u001b[38;5;34m60\u001b[0m, \u001b[38;5;34m2\u001b[0m) │          \u001b[38;5;34m0\u001b[0m │ coord_conv2d_3[\u001b[38;5;34m0\u001b[0m… │\n",
       "│ (\u001b[38;5;33mMaxPooling2D\u001b[0m)      │                   │            │                   │\n",
       "├─────────────────────┼───────────────────┼────────────┼───────────────────┤\n",
       "│ coord_conv2d_4      │ [(\u001b[38;5;45mNone\u001b[0m, \u001b[38;5;34m30\u001b[0m, \u001b[38;5;34m60\u001b[0m,   │    \u001b[38;5;34m299,776\u001b[0m │ dropout_1[\u001b[38;5;34m0\u001b[0m][\u001b[38;5;34m0\u001b[0m],  │\n",
       "│ (\u001b[38;5;33mCoordConv2D\u001b[0m)       │ \u001b[38;5;34m256\u001b[0m), (\u001b[38;5;45mNone\u001b[0m, \u001b[38;5;34m30\u001b[0m,  │            │ max_pooling2d_3[\u001b[38;5;34m…\u001b[0m │\n",
       "│                     │ \u001b[38;5;34m60\u001b[0m, \u001b[38;5;34m2\u001b[0m)]           │            │                   │\n",
       "├─────────────────────┼───────────────────┼────────────┼───────────────────┤\n",
       "│ coord_conv2d_5      │ [(\u001b[38;5;45mNone\u001b[0m, \u001b[38;5;34m30\u001b[0m, \u001b[38;5;34m60\u001b[0m,   │    \u001b[38;5;34m594,688\u001b[0m │ coord_conv2d_4[\u001b[38;5;34m0\u001b[0m… │\n",
       "│ (\u001b[38;5;33mCoordConv2D\u001b[0m)       │ \u001b[38;5;34m256\u001b[0m), (\u001b[38;5;45mNone\u001b[0m, \u001b[38;5;34m30\u001b[0m,  │            │ coord_conv2d_4[\u001b[38;5;34m0\u001b[0m… │\n",
       "│                     │ \u001b[38;5;34m60\u001b[0m, \u001b[38;5;34m2\u001b[0m)]           │            │                   │\n",
       "├─────────────────────┼───────────────────┼────────────┼───────────────────┤\n",
       "│ coord_conv2d_6      │ [(\u001b[38;5;45mNone\u001b[0m, \u001b[38;5;34m30\u001b[0m, \u001b[38;5;34m60\u001b[0m,   │    \u001b[38;5;34m594,688\u001b[0m │ coord_conv2d_5[\u001b[38;5;34m0\u001b[0m… │\n",
       "│ (\u001b[38;5;33mCoordConv2D\u001b[0m)       │ \u001b[38;5;34m256\u001b[0m), (\u001b[38;5;45mNone\u001b[0m, \u001b[38;5;34m30\u001b[0m,  │            │ coord_conv2d_5[\u001b[38;5;34m0\u001b[0m… │\n",
       "│                     │ \u001b[38;5;34m60\u001b[0m, \u001b[38;5;34m2\u001b[0m)]           │            │                   │\n",
       "├─────────────────────┼───────────────────┼────────────┼───────────────────┤\n",
       "│ max_pooling2d_4     │ (\u001b[38;5;45mNone\u001b[0m, \u001b[38;5;34m15\u001b[0m, \u001b[38;5;34m30\u001b[0m,    │          \u001b[38;5;34m0\u001b[0m │ coord_conv2d_6[\u001b[38;5;34m0\u001b[0m… │\n",
       "│ (\u001b[38;5;33mMaxPooling2D\u001b[0m)      │ \u001b[38;5;34m256\u001b[0m)              │            │                   │\n",
       "├─────────────────────┼───────────────────┼────────────┼───────────────────┤\n",
       "│ dropout_2 (\u001b[38;5;33mDropout\u001b[0m) │ (\u001b[38;5;45mNone\u001b[0m, \u001b[38;5;34m15\u001b[0m, \u001b[38;5;34m30\u001b[0m,    │          \u001b[38;5;34m0\u001b[0m │ max_pooling2d_4[\u001b[38;5;34m…\u001b[0m │\n",
       "│                     │ \u001b[38;5;34m256\u001b[0m)              │            │                   │\n",
       "├─────────────────────┼───────────────────┼────────────┼───────────────────┤\n",
       "│ max_pooling2d_5     │ (\u001b[38;5;45mNone\u001b[0m, \u001b[38;5;34m15\u001b[0m, \u001b[38;5;34m30\u001b[0m, \u001b[38;5;34m2\u001b[0m) │          \u001b[38;5;34m0\u001b[0m │ coord_conv2d_6[\u001b[38;5;34m0\u001b[0m… │\n",
       "│ (\u001b[38;5;33mMaxPooling2D\u001b[0m)      │                   │            │                   │\n",
       "├─────────────────────┼───────────────────┼────────────┼───────────────────┤\n",
       "│ coord_conv2d_7      │ [(\u001b[38;5;45mNone\u001b[0m, \u001b[38;5;34m15\u001b[0m, \u001b[38;5;34m30\u001b[0m,   │  \u001b[38;5;34m1,189,376\u001b[0m │ dropout_2[\u001b[38;5;34m0\u001b[0m][\u001b[38;5;34m0\u001b[0m],  │\n",
       "│ (\u001b[38;5;33mCoordConv2D\u001b[0m)       │ \u001b[38;5;34m512\u001b[0m), (\u001b[38;5;45mNone\u001b[0m, \u001b[38;5;34m15\u001b[0m,  │            │ max_pooling2d_5[\u001b[38;5;34m…\u001b[0m │\n",
       "│                     │ \u001b[38;5;34m30\u001b[0m, \u001b[38;5;34m2\u001b[0m)]           │            │                   │\n",
       "├─────────────────────┼───────────────────┼────────────┼───────────────────┤\n",
       "│ coord_conv2d_8      │ [(\u001b[38;5;45mNone\u001b[0m, \u001b[38;5;34m15\u001b[0m, \u001b[38;5;34m30\u001b[0m,   │  \u001b[38;5;34m2,369,024\u001b[0m │ coord_conv2d_7[\u001b[38;5;34m0\u001b[0m… │\n",
       "│ (\u001b[38;5;33mCoordConv2D\u001b[0m)       │ \u001b[38;5;34m512\u001b[0m), (\u001b[38;5;45mNone\u001b[0m, \u001b[38;5;34m15\u001b[0m,  │            │ coord_conv2d_7[\u001b[38;5;34m0\u001b[0m… │\n",
       "│                     │ \u001b[38;5;34m30\u001b[0m, \u001b[38;5;34m2\u001b[0m)]           │            │                   │\n",
       "├─────────────────────┼───────────────────┼────────────┼───────────────────┤\n",
       "│ coord_conv2d_9      │ [(\u001b[38;5;45mNone\u001b[0m, \u001b[38;5;34m15\u001b[0m, \u001b[38;5;34m30\u001b[0m,   │  \u001b[38;5;34m2,369,024\u001b[0m │ coord_conv2d_8[\u001b[38;5;34m0\u001b[0m… │\n",
       "│ (\u001b[38;5;33mCoordConv2D\u001b[0m)       │ \u001b[38;5;34m512\u001b[0m), (\u001b[38;5;45mNone\u001b[0m, \u001b[38;5;34m15\u001b[0m,  │            │ coord_conv2d_8[\u001b[38;5;34m0\u001b[0m… │\n",
       "│                     │ \u001b[38;5;34m30\u001b[0m, \u001b[38;5;34m2\u001b[0m)]           │            │                   │\n",
       "├─────────────────────┼───────────────────┼────────────┼───────────────────┤\n",
       "│ max_pooling2d_6     │ (\u001b[38;5;45mNone\u001b[0m, \u001b[38;5;34m8\u001b[0m, \u001b[38;5;34m15\u001b[0m,     │          \u001b[38;5;34m0\u001b[0m │ coord_conv2d_9[\u001b[38;5;34m0\u001b[0m… │\n",
       "│ (\u001b[38;5;33mMaxPooling2D\u001b[0m)      │ \u001b[38;5;34m512\u001b[0m)              │            │                   │\n",
       "├─────────────────────┼───────────────────┼────────────┼───────────────────┤\n",
       "│ dropout_3 (\u001b[38;5;33mDropout\u001b[0m) │ (\u001b[38;5;45mNone\u001b[0m, \u001b[38;5;34m8\u001b[0m, \u001b[38;5;34m15\u001b[0m,     │          \u001b[38;5;34m0\u001b[0m │ max_pooling2d_6[\u001b[38;5;34m…\u001b[0m │\n",
       "│                     │ \u001b[38;5;34m512\u001b[0m)              │            │                   │\n",
       "├─────────────────────┼───────────────────┼────────────┼───────────────────┤\n",
       "│ conv2d_10 (\u001b[38;5;33mConv2D\u001b[0m)  │ (\u001b[38;5;45mNone\u001b[0m, \u001b[38;5;34m8\u001b[0m, \u001b[38;5;34m15\u001b[0m,     │    \u001b[38;5;34m262,656\u001b[0m │ dropout_3[\u001b[38;5;34m0\u001b[0m][\u001b[38;5;34m0\u001b[0m]   │\n",
       "│                     │ \u001b[38;5;34m512\u001b[0m)              │            │                   │\n",
       "├─────────────────────┼───────────────────┼────────────┼───────────────────┤\n",
       "│ conv2d_11 (\u001b[38;5;33mConv2D\u001b[0m)  │ (\u001b[38;5;45mNone\u001b[0m, \u001b[38;5;34m8\u001b[0m, \u001b[38;5;34m15\u001b[0m,     │    \u001b[38;5;34m131,328\u001b[0m │ conv2d_10[\u001b[38;5;34m0\u001b[0m][\u001b[38;5;34m0\u001b[0m]   │\n",
       "│                     │ \u001b[38;5;34m256\u001b[0m)              │            │                   │\n",
       "├─────────────────────┼───────────────────┼────────────┼───────────────────┤\n",
       "│ heatmap (\u001b[38;5;33mConv2D\u001b[0m)    │ (\u001b[38;5;45mNone\u001b[0m, \u001b[38;5;34m8\u001b[0m, \u001b[38;5;34m15\u001b[0m, \u001b[38;5;34m1\u001b[0m)  │        \u001b[38;5;34m257\u001b[0m │ conv2d_11[\u001b[38;5;34m0\u001b[0m][\u001b[38;5;34m0\u001b[0m]   │\n",
       "├─────────────────────┼───────────────────┼────────────┼───────────────────┤\n",
       "│ global_max_pooling… │ (\u001b[38;5;45mNone\u001b[0m, \u001b[38;5;34m1\u001b[0m)         │          \u001b[38;5;34m0\u001b[0m │ heatmap[\u001b[38;5;34m0\u001b[0m][\u001b[38;5;34m0\u001b[0m]     │\n",
       "│ (\u001b[38;5;33mGlobalMaxPooling2…\u001b[0m │                   │            │                   │\n",
       "└─────────────────────┴───────────────────┴────────────┴───────────────────┘\n"
      ]
     },
     "metadata": {},
     "output_type": "display_data"
    },
    {
     "data": {
      "text/html": [
       "<pre style=\"white-space:pre;overflow-x:auto;line-height:normal;font-family:Menlo,'DejaVu Sans Mono',consolas,'Courier New',monospace\"><span style=\"font-weight: bold\"> Total params: </span><span style=\"color: #00af00; text-decoration-color: #00af00\">8,084,225</span> (30.84 MB)\n",
       "</pre>\n"
      ],
      "text/plain": [
       "\u001b[1m Total params: \u001b[0m\u001b[38;5;34m8,084,225\u001b[0m (30.84 MB)\n"
      ]
     },
     "metadata": {},
     "output_type": "display_data"
    },
    {
     "data": {
      "text/html": [
       "<pre style=\"white-space:pre;overflow-x:auto;line-height:normal;font-family:Menlo,'DejaVu Sans Mono',consolas,'Courier New',monospace\"><span style=\"font-weight: bold\"> Trainable params: </span><span style=\"color: #00af00; text-decoration-color: #00af00\">8,084,225</span> (30.84 MB)\n",
       "</pre>\n"
      ],
      "text/plain": [
       "\u001b[1m Trainable params: \u001b[0m\u001b[38;5;34m8,084,225\u001b[0m (30.84 MB)\n"
      ]
     },
     "metadata": {},
     "output_type": "display_data"
    },
    {
     "data": {
      "text/html": [
       "<pre style=\"white-space:pre;overflow-x:auto;line-height:normal;font-family:Menlo,'DejaVu Sans Mono',consolas,'Courier New',monospace\"><span style=\"font-weight: bold\"> Non-trainable params: </span><span style=\"color: #00af00; text-decoration-color: #00af00\">0</span> (0.00 B)\n",
       "</pre>\n"
      ],
      "text/plain": [
       "\u001b[1m Non-trainable params: \u001b[0m\u001b[38;5;34m0\u001b[0m (0.00 B)\n"
      ]
     },
     "metadata": {},
     "output_type": "display_data"
    }
   ],
   "source": [
    "model.summary()"
   ]
  },
  {
   "cell_type": "markdown",
   "id": "5b1a005a-757f-4d9a-b4ca-e29426bdefad",
   "metadata": {},
   "source": [
    "Again, as mentioned above, of note here is the learning rate chosen, which is 10^-4.\n",
    "\n",
    "10^-3 caused divergence in later epochs (even though it must have worked for the TorNet researchers, it\n",
    "must be due to difference in batch size - our smaller batch size must be causing a larger learning rate \n",
    "to diverge more easily in later epochs)."
   ]
  },
  {
   "cell_type": "code",
   "execution_count": 8,
   "id": "c56071c5-1a70-4a5b-8fc9-e736ebde6a97",
   "metadata": {},
   "outputs": [],
   "source": [
    "opt = keras.optimizers.Adam(learning_rate=1e-4)\n",
    "loss = keras.losses.BinaryCrossentropy(from_logits=True)\n",
    "model.compile(loss=loss, optimizer=opt)"
   ]
  },
  {
   "cell_type": "markdown",
   "id": "1381c59e-18b7-4b16-ac29-74d4b30ad806",
   "metadata": {},
   "source": [
    "We create a checkpoint saving function just to deal with iPython's many kernel crashes.\n",
    "After each pass through the data and all batches, we'll save the weights, reload the model, and keep going.\n",
    "\n",
    "We'll save the weights in `checkpoints/epoch_{number_of_epoch}.weights.h5`"
   ]
  },
  {
   "cell_type": "code",
   "execution_count": 9,
   "id": "fea1e22b-bc9c-4ed7-807c-baa52e71d908",
   "metadata": {},
   "outputs": [],
   "source": [
    "def checkpoint_creator(checkpoint_path):\n",
    "    # saving the model's weights in case the iPython kernel crashes (which it likes to do)\n",
    "    cp_callback = tf.keras.callbacks.ModelCheckpoint(filepath=checkpoint_path,\n",
    "                                       save_weights_only=True,\n",
    "                                       verbose=1)\n",
    "    return cp_callback\n",
    "\n",
    "def checkpoint_loader(checkpoint_path, model):\n",
    "    model.load_weights(checkpoint_path)"
   ]
  },
  {
   "cell_type": "markdown",
   "id": "f2112eb5-6cd4-45fe-8d21-83ef2074fc4d",
   "metadata": {},
   "source": [
    "First pass through the data. Again, with each pass, we set it up with:\n",
    "- A batch_size of 64 (to fit the data into GPU memory)\n",
    "- Shuffle the data with a random_state (we pick a new seed each time, but record that seed here so we don't reuse it in a later epoch)\n",
    "- Set up a new checkpoint for each epoch (in case any one epoch of training crashes/fails)."
   ]
  },
  {
   "cell_type": "code",
   "execution_count": 10,
   "id": "25ddfa68-e121-4440-bacc-125c7f9f00fc",
   "metadata": {},
   "outputs": [
    {
     "name": "stderr",
     "output_type": "stream",
     "text": [
      "WARNING: All log messages before absl::InitializeLog() is called are written to STDERR\n",
      "I0000 00:00:1731921134.596652   10727 service.cc:148] XLA service 0x7ff8d801a6f0 initialized for platform CUDA (this does not guarantee that XLA will be used). Devices:\n",
      "I0000 00:00:1731921134.596800   10727 service.cc:156]   StreamExecutor device (0): NVIDIA GeForce RTX 3070, Compute Capability 8.6\n",
      "2024-11-18 01:12:14.709335: I tensorflow/compiler/mlir/tensorflow/utils/dump_mlir_util.cc:268] disabling MLIR crash reproducer, set env var `MLIR_CRASH_REPRODUCER_DIRECTORY` to enable.\n",
      "I0000 00:00:1731921135.018717   10727 cuda_dnn.cc:529] Loaded cuDNN version 90300\n",
      "I0000 00:00:1731921162.192996   10727 device_compiler.h:188] Compiled cluster using XLA!  This line is logged at most once for the lifetime of the process.\n"
     ]
    },
    {
     "name": "stdout",
     "output_type": "stream",
     "text": [
      "   2682/Unknown \u001b[1m8333s\u001b[0m 3s/step - loss: 1.1840\n",
      "Epoch 1: saving model to checkpoints/epoch_1e-4_test_1.weights.h5\n"
     ]
    },
    {
     "name": "stderr",
     "output_type": "stream",
     "text": [
      "2024-11-18 03:31:02.986426: I tensorflow/core/framework/local_rendezvous.cc:405] Local rendezvous is aborting with status: OUT_OF_RANGE: End of sequence\n",
      "\t [[{{node IteratorGetNext}}]]\n",
      "2024-11-18 03:31:02.986663: I tensorflow/core/framework/local_rendezvous.cc:405] Local rendezvous is aborting with status: OUT_OF_RANGE: End of sequence\n",
      "\t [[{{node IteratorGetNext}}]]\n",
      "\t [[IteratorGetNext/_10]]\n",
      "2024-11-18 03:31:02.986696: I tensorflow/core/framework/local_rendezvous.cc:424] Local rendezvous recv item cancelled. Key hash: 5085392076007066231\n",
      "2024-11-18 03:31:02.986702: I tensorflow/core/framework/local_rendezvous.cc:424] Local rendezvous recv item cancelled. Key hash: 7413424529232766513\n",
      "2024-11-18 03:31:02.986707: I tensorflow/core/framework/local_rendezvous.cc:424] Local rendezvous recv item cancelled. Key hash: 5447956165592526585\n",
      "2024-11-18 03:31:02.986712: I tensorflow/core/framework/local_rendezvous.cc:424] Local rendezvous recv item cancelled. Key hash: 14727562599619413896\n",
      "2024-11-18 03:31:02.986715: I tensorflow/core/framework/local_rendezvous.cc:424] Local rendezvous recv item cancelled. Key hash: 11069779641631512876\n",
      "2024-11-18 03:31:02.986718: I tensorflow/core/framework/local_rendezvous.cc:424] Local rendezvous recv item cancelled. Key hash: 1393256507155917626\n",
      "2024-11-18 03:31:02.986722: I tensorflow/core/framework/local_rendezvous.cc:424] Local rendezvous recv item cancelled. Key hash: 10154749177304748896\n",
      "2024-11-18 03:31:02.986725: I tensorflow/core/framework/local_rendezvous.cc:424] Local rendezvous recv item cancelled. Key hash: 3192684174431925096\n",
      "2024-11-18 03:31:02.986769: I tensorflow/core/framework/local_rendezvous.cc:424] Local rendezvous recv item cancelled. Key hash: 9115530564610236372\n",
      "/usr/lib/python3.9/contextlib.py:137: UserWarning: Your input ran out of data; interrupting training. Make sure that your dataset or generator can generate at least `steps_per_epoch * epochs` batches. You may need to use the `.repeat()` function when building your dataset.\n",
      "  self.gen.throw(typ, value, traceback)\n"
     ]
    },
    {
     "name": "stdout",
     "output_type": "stream",
     "text": [
      "\u001b[1m2682/2682\u001b[0m \u001b[32m━━━━━━━━━━━━━━━━━━━━\u001b[0m\u001b[37m\u001b[0m \u001b[1m8334s\u001b[0m 3s/step - loss: 1.1838\n",
      "   2682/Unknown \u001b[1m8396s\u001b[0m 3s/step - loss: 0.2602\n",
      "Epoch 1: saving model to checkpoints/epoch_1e-4_test_2.weights.h5\n"
     ]
    },
    {
     "name": "stderr",
     "output_type": "stream",
     "text": [
      "2024-11-18 05:51:01.241504: I tensorflow/core/framework/local_rendezvous.cc:405] Local rendezvous is aborting with status: OUT_OF_RANGE: End of sequence\n",
      "\t [[{{node IteratorGetNext}}]]\n",
      "\t [[IteratorGetNext/_10]]\n",
      "2024-11-18 05:51:01.243992: I tensorflow/core/framework/local_rendezvous.cc:424] Local rendezvous recv item cancelled. Key hash: 5085392076007066231\n",
      "2024-11-18 05:51:01.244043: I tensorflow/core/framework/local_rendezvous.cc:424] Local rendezvous recv item cancelled. Key hash: 7413424529232766513\n",
      "2024-11-18 05:51:01.244049: I tensorflow/core/framework/local_rendezvous.cc:424] Local rendezvous recv item cancelled. Key hash: 5447956165592526585\n",
      "2024-11-18 05:51:01.244055: I tensorflow/core/framework/local_rendezvous.cc:424] Local rendezvous recv item cancelled. Key hash: 14727562599619413896\n",
      "2024-11-18 05:51:01.244057: I tensorflow/core/framework/local_rendezvous.cc:424] Local rendezvous recv item cancelled. Key hash: 11069779641631512876\n",
      "2024-11-18 05:51:01.244061: I tensorflow/core/framework/local_rendezvous.cc:424] Local rendezvous recv item cancelled. Key hash: 1393256507155917626\n",
      "2024-11-18 05:51:01.244064: I tensorflow/core/framework/local_rendezvous.cc:424] Local rendezvous recv i/usr/lib/python3.9/contextlib.py:137: UserWarning: Your input ran out of data; interrupting training. Make sure that your dataset or generator can generate at least `steps_per_epoch * epochs` batches. You may need to use the `.repeat()` function when building your dataset.\n",
      "  self.gen.throw(typ, value, traceback)\n",
      "tem cancelled. Key hash: 10154749177304748896\n",
      "2024-11-18 05:51:01.244066: I tensorflow/core/framework/local_rendezvous.cc:424] Local rendezvous recv item cancelled. Key hash: 3192684174431925096\n",
      "2024-11-18 05:51:01.244087: I tensorflow/core/framework/local_rendezvous.cc:424] Local rendezvous recv item cancelled. Key hash: 9115530564610236372\n"
     ]
    },
    {
     "name": "stdout",
     "output_type": "stream",
     "text": [
      "\u001b[1m2682/2682\u001b[0m \u001b[32m━━━━━━━━━━━━━━━━━━━━\u001b[0m\u001b[37m\u001b[0m \u001b[1m8397s\u001b[0m 3s/step - loss: 0.2602\n"
     ]
    },
    {
     "name": "stderr",
     "output_type": "stream",
     "text": [
      "2024-11-18 05:51:05.895293: W tensorflow/core/kernels/data/prefetch_autotuner.cc:52] Prefetch autotuner tried to allocate 117964864 bytes after encountering the first element of size 117964864 bytes.This already causes the autotune ram budget to be exceeded. To stay within the ram budget, either increase the ram budget or reduce element size\n"
     ]
    },
    {
     "name": "stdout",
     "output_type": "stream",
     "text": [
      "   2682/Unknown \u001b[1m8426s\u001b[0m 3s/step - loss: 0.2322\n",
      "Epoch 1: saving model to checkpoints/epoch_1e-4_test_3.weights.h5\n"
     ]
    },
    {
     "name": "stderr",
     "output_type": "stream",
     "text": [
      "2024-11-18 08:11:29.432565: I tensorflow/core/framework/local_rendezvous.cc:424] Local rendezvous recv item cancelled. Key hash: 5085392076007066231\n",
      "2024-11-18 08:11:29.434689: I tensorflow/core/framework/local_rendezvous.cc:424] Local rendezvous recv item cancelled. Key hash: 7413424529232766513\n",
      "2024-11-18 08:11:29.434812: I tensorflow/core/framework/local_rendezvous.cc:424] Local rendezvous recv item cancelled. Key hash: 5447956165592526585\n",
      "2024-11-18 08:11:29.434826: I tensorflow/core/framework/local_rendezvous.cc:424] Local rendezvous recv item cancelled. Key hash: 14727562599619413896\n",
      "2024-11-18 08:11:29.434830: I tensorflow/core/framework/local_rendezvous.cc:424] Local rendezvous recv item cancelled. Key hash: 11069779641631512876\n",
      "2024-11-18 08:11:29.434835: I tensorflow/core/framework/local_rendezvous.cc:424] Local rendezvous recv item cancelled. Key hash: 1393256507155917626\n",
      "2024-11-18 08:11:29.434838: I tensorflow/core/framework/local_rendezvous.cc:424] Local rendezvous recv item cancelled. Key hash: 10154749177304748896\n",
      "2024-11-18 08:11:29.434842: I tensorflow/core/framework/local_rendezvous.cc:424] Local rendezvous recv item cancelled. Key hash: 3192684174431925096\n",
      "2024-11-18 08:11:29.434864: I tensorflow/core/framework/local_rendezvous.cc:424] Local rendezvous recv item cancelled. Key hash: 9115530564610236372\n",
      "/usr/lib/python3.9/contextlib.py:137: UserWarning: Your input ran out of data; interrupting training. Make sure that your dataset or generator can generate at least `steps_per_epoch * epochs` batches. You may need to use the `.repeat()` function when building your dataset.\n",
      "  self.gen.throw(typ, value, traceback)\n"
     ]
    },
    {
     "name": "stdout",
     "output_type": "stream",
     "text": [
      "\u001b[1m2682/2682\u001b[0m \u001b[32m━━━━━━━━━━━━━━━━━━━━\u001b[0m\u001b[37m\u001b[0m \u001b[1m8427s\u001b[0m 3s/step - loss: 0.2322\n",
      "   2682/Unknown \u001b[1m8560s\u001b[0m 3s/step - loss: 0.2203\n",
      "Epoch 1: saving model to checkpoints/epoch_1e-4_test_4.weights.h5\n"
     ]
    },
    {
     "name": "stderr",
     "output_type": "stream",
     "text": [
      "2024-11-18 10:34:12.381075: I tensorflow/core/framework/local_rendezvous.cc:405] Local rendezvous is aborting with status: OUT_OF_RANGE: End of sequence\n",
      "\t [[{{node IteratorGetNext}}]]\n",
      "\t [[IteratorGetNext/_10]]\n",
      "2024-11-18 10:34:12.385978: I tensorflow/core/framework/local_rendezvous.cc:424] Local rendezvous recv item cancelled. Key hash: 5085392076007066231\n",
      "2024-11-18 10:34:12.386001: I tensorflow/core/framework/local_rendezvous.cc:424] Local rendezvous recv item cancelled. Key hash: 7413424529232766513\n",
      "2024-11-18 10:34:12.386053: I tensorflow/core/framework/local_rendezvous.cc:424] Local rendezvous recv item cancelled. Key hash: 5447956165592526585\n",
      "2024-11-18 10:34:12.386075: I tensorflow/core/framework/local_rendezvous.cc:424] Local rendezvous recv item cancelled. Key hash: 14727562599619413896\n",
      "2024-11-18 10:34:12.386080: I tensorflow/core/framework/local_rendezvous.cc:424] Local rendezvous recv item cancelled. Key hash: 11069779641631512876\n",
      "2024-11-18 10:34:12.386086: I tensorflow/core/framework/local_rendezvous.cc:424] Local rendezvous recv item cancelled. Key hash: 1393256507155917626\n",
      "2024-11-18 10:34:12.386089: I tensorflow/core/framework/local_rendezvous.cc:424] Local rendezvous recv item cancelled. Key hash: 10154749177304748896\n",
      "2024-11-18 10:34:12.386092: I tensorflow/core/framework/local_rendezvous.cc:424] Local rendezvous recv item cancelled. Key hash: 3192684174431925096\n",
      "2024-11-18 10:34:12.386126: I tensorflow/core/framework/local_rendezvous.cc:424] Local rendezvous recv item cancelled. Key hash: 9115530564610236372\n",
      "/usr/lib/python3.9/contextlib.py:137: UserWarning: Your input ran out of data; interrupting training. Make sure that your dataset or generator can generate at least `steps_per_epoch * epochs` batches. You may need to use the `.repeat()` function when building your dataset.\n",
      "  self.gen.throw(typ, value, traceback)\n"
     ]
    },
    {
     "name": "stdout",
     "output_type": "stream",
     "text": [
      "\u001b[1m2682/2682\u001b[0m \u001b[32m━━━━━━━━━━━━━━━━━━━━\u001b[0m\u001b[37m\u001b[0m \u001b[1m8561s\u001b[0m 3s/step - loss: 0.2203\n"
     ]
    }
   ],
   "source": [
    "for epoch_num in range(1, 5):\n",
    "    resampled = make_tf_loader(data_root = TORNET_DATA_INPUT_FOLDER, \n",
    "                               data_type = \"train\", # or 'test'\n",
    "                               years = list(range(2013, 2023)),\n",
    "                               batch_size = 64, \n",
    "                               weights = None,\n",
    "                               include_az = False,\n",
    "                               random_state = 21222324 + epoch_num,\n",
    "                               select_keys = ALL_VARIABLES + [\"coordinates\", \"range_folded_mask\"],\n",
    "                               tilt_last = True,\n",
    "                               from_tfds = False,\n",
    "                               tfds_data_version =\"1.1.0\")\n",
    "    if epoch_num > 1:\n",
    "        checkpoint_loader(\"checkpoints/epoch_1e-4_test_{}.weights.h5\".format(str(epoch_num - 1)), model)\n",
    "    model.fit(resampled, epochs=1, callbacks=[checkpoint_creator(\"checkpoints/epoch_1e-4_test_{}.weights.h5\".format(epoch_num))])"
   ]
  },
  {
   "cell_type": "code",
   "execution_count": null,
   "id": "dad29e27-c4aa-4c3a-a213-222a26e06952",
   "metadata": {},
   "outputs": [
    {
     "name": "stderr",
     "output_type": "stream",
     "text": [
      "/usr/local/lib/python3.9/dist-packages/keras/src/saving/saving_lib.py:719: UserWarning: Skipping variable loading for optimizer 'rmsprop', because it has 2 variables whereas the saved optimizer has 54 variables. \n",
      "  saveable.load_own_variables(weights_store.get(inner_path))\n"
     ]
    },
    {
     "name": "stdout",
     "output_type": "stream",
     "text": [
      "\u001b[1m491/491\u001b[0m \u001b[32m━━━━━━━━━━━━━━━━━━━━\u001b[0m\u001b[37m\u001b[0m \u001b[1m1602s\u001b[0m 3s/step - AUC: 0.6884 - loss: 0.2697\n"
     ]
    },
    {
     "name": "stderr",
     "output_type": "stream",
     "text": [
      "2024-11-18 11:16:57.250390: I tensorflow/core/framework/local_rendezvous.cc:424] Local rendezvous recv item cancelled. Key hash: 5085392076007066231\n",
      "2024-11-18 11:16:57.251306: I tensorflow/core/framework/local_rendezvous.cc:424] Local rendezvous recv item cancelled. Key hash: 7413424529232766513\n",
      "2024-11-18 11:16:57.251314: I tensorflow/core/framework/local_rendezvous.cc:424] Local rendezvous recv item cancelled. Key hash: 5447956165592526585\n",
      "2024-11-18 11:16:57.251320: I tensorflow/core/framework/local_rendezvous.cc:424] Local rendezvous recv item cancelled. Key hash: 14727562599619413896\n",
      "2024-11-18 11:16:57.251323: I tensorflow/core/framework/local_rendezvous.cc:424] Local rendezvous recv item cancelled. Key hash: 11069779641631512876\n",
      "2024-11-18 11:16:57.251327: I tensorflow/core/framework/local_rendezvous.cc:424] Local rendezvous recv item cancelled. Key hash: 1393256507155917626\n",
      "2024-11-18 11:16:57.251330: I tensorflow/core/framework/local_rendezvous.cc:424] Local rendezvous recv item cancelled. Key hash: 10154749177304748896\n",
      "2024-11-18 11:16:57.251334: I tensorflow/core/framework/local_rendezvous.cc:424] Local rendezvous recv item cancelled. Key hash: 3192684174431925096\n",
      "2024-11-18 11:16:57.251354: I tensorflow/core/framework/local_rendezvous.cc:424] Local rendezvous recv item cancelled. Key hash: 9115530564610236372\n",
      "/usr/lib/python3.9/contextlib.py:137: UserWarning: Your input ran out of data; interrupting training. Make sure that your dataset or generator can generate at least `steps_per_epoch * epochs` batches. You may need to use the `.repeat()` function when building your dataset.\n",
      "  self.gen.throw(typ, value, traceback)\n",
      "/usr/local/lib/python3.9/dist-packages/keras/src/saving/saving_lib.py:719: UserWarning: Skipping variable loading for optimizer 'rmsprop', because it has 2 variables whereas the saved optimizer has 54 variables. \n",
      "  saveable.load_own_variables(weights_store.get(inner_path))\n"
     ]
    },
    {
     "name": "stdout",
     "output_type": "stream",
     "text": [
      "\u001b[1m491/491\u001b[0m \u001b[32m━━━━━━━━━━━━━━━━━━━━\u001b[0m\u001b[37m\u001b[0m \u001b[1m1585s\u001b[0m 3s/step - AUC: 0.7462 - loss: 0.2362\n"
     ]
    },
    {
     "name": "stderr",
     "output_type": "stream",
     "text": [
      "2024-11-18 11:43:22.528727: I tensorflow/core/framework/local_rendezvous.cc:424] Local rendezvous recv item cancelled. Key hash: 5085392076007066231\n",
      "2024-11-18 11:43:22.529724: I tensorflow/core/framework/local_rendezvous.cc:424] Local rendezvous recv item cancelled. Key hash: 7413424529232766513\n",
      "2024-11-18 11:43:22.529737: I tensorflow/core/framework/local_rendezvous.cc:424] Local rendezvous recv item cancelled. Key hash: 5447956165592526585\n",
      "2024-11-18 11:43:22.529744: I tensorflow/core/framework/local_rendezvous.cc:424] Local rendezvous recv item cancelled. Key hash: 14727562599619413896\n",
      "2024-11-18 11:43:22.529747: I tensorflow/core/framework/local_rendezvous.cc:424] Local rendezvous recv item cancelled. Key hash: 11069779641631512876\n",
      "2024-11-18 11:43:22.529751: I tensorflow/core/framework/local_rendezvous.cc:424] Local rendezvous recv item cancelled. Key hash: 1393256507155917626\n",
      "2024-11-18 11:43:22.529755: I tensorflow/core/framework/local_rendezvous.cc:424] Local rendezvous recv item cancelled. Key hash: 10154749177304748896\n",
      "2024-11-18 11:43:22.529758: I tensorflow/core/framework/local_rendezvous.cc:424] Local rendezvous recv item cancelled. Key hash: 3192684174431925096\n",
      "2024-11-18 11:43:22.529800: I tensorflow/core/framework/local_rendezvous.cc:424] Local rendezvous recv item cancelled. Key hash: 9115530564610236372\n",
      "/usr/lib/python3.9/contextlib.py:137: UserWarning: Your input ran out of data; interrupting training. Make sure that your dataset or generator can generate at least `steps_per_epoch * epochs` batches. You may need to use the `.repeat()` function when building your dataset.\n",
      "  self.gen.throw(typ, value, traceback)\n",
      "/usr/local/lib/python3.9/dist-packages/keras/src/saving/saving_lib.py:719: UserWarning: Skipping variable loading for optimizer 'rmsprop', because it has 2 variables whereas the saved optimizer has 54 variables. \n",
      "  saveable.load_own_variables(weights_store.get(inner_path))\n",
      "2024-11-18 11:43:26.676855: W tensorflow/core/kernels/data/prefetch_autotuner.cc:52] Prefetch autotuner tried to allocate 117964864 bytes after encountering the first element of size 117964864 bytes.This already causes the autotune ram budget to be exceeded. To stay within the ram budget, either increase the ram budget or reduce element size\n"
     ]
    },
    {
     "name": "stdout",
     "output_type": "stream",
     "text": [
      "      6/Unknown \u001b[1m21s\u001b[0m 3s/step - AUC: 0.5984 - loss: 0.1884"
     ]
    }
   ],
   "source": [
    "test_data = make_tf_loader(data_root = TORNET_DATA_INPUT_FOLDER, \n",
    "                              data_type = \"test\",\n",
    "                              years = list(range(2013, 2023)),\n",
    "                              batch_size = 64, \n",
    "                              weights = None,\n",
    "                              include_az = False,\n",
    "                              random_state = 5678,\n",
    "                              select_keys = ALL_VARIABLES + [\"coordinates\", \"range_folded_mask\"],\n",
    "                              tilt_last = True,\n",
    "                              from_tfds = False,\n",
    "                              tfds_data_version =\"1.1.0\")\n",
    "\n",
    "for epoch_num in range(1, 5):\n",
    "    metrics = [keras.metrics.AUC(from_logits=True,name='AUC')]\n",
    "    checkpoint_loader(\"checkpoints/epoch_1e-4_test_{}.weights.h5\".format(str(epoch_num)), model)\n",
    "    model.compile(loss=loss, metrics=metrics)\n",
    "    model.evaluate(test_data)"
   ]
  },
  {
   "cell_type": "code",
   "execution_count": 10,
   "id": "f5bed535-c6bc-48b3-a510-3a0db1369894",
   "metadata": {},
   "outputs": [
    {
     "name": "stderr",
     "output_type": "stream",
     "text": [
      "/usr/local/lib/python3.9/dist-packages/keras/src/saving/saving_lib.py:719: UserWarning: Skipping variable loading for optimizer 'adam', because it has 2 variables whereas the saved optimizer has 54 variables. \n",
      "  saveable.load_own_variables(weights_store.get(inner_path))\n",
      "WARNING: All log messages before absl::InitializeLog() is called are written to STDERR\n",
      "I0000 00:00:1731959099.802115   15192 service.cc:148] XLA service 0x7efb34003a80 initialized for platform CUDA (this does not guarantee that XLA will be used). Devices:\n",
      "I0000 00:00:1731959099.812486   15192 service.cc:156]   StreamExecutor device (0): NVIDIA GeForce RTX 3070, Compute Capability 8.6\n",
      "2024-11-18 11:44:59.851374: I tensorflow/compiler/mlir/tensorflow/utils/dump_mlir_util.cc:268] disabling MLIR crash reproducer, set env var `MLIR_CRASH_REPRODUCER_DIRECTORY` to enable.\n",
      "I0000 00:00:1731959099.942555   15192 cuda_dnn.cc:529] Loaded cuDNN version 90300\n"
     ]
    },
    {
     "name": "stdout",
     "output_type": "stream",
     "text": [
      "      2/Unknown \u001b[1m11s\u001b[0m 61ms/step - AUC: 0.3646 - loss: 0.1400   "
     ]
    },
    {
     "name": "stderr",
     "output_type": "stream",
     "text": [
      "I0000 00:00:1731959106.498013   15192 device_compiler.h:188] Compiled cluster using XLA!  This line is logged at most once for the lifetime of the process.\n"
     ]
    },
    {
     "name": "stdout",
     "output_type": "stream",
     "text": [
      "\u001b[1m491/491\u001b[0m \u001b[32m━━━━━━━━━━━━━━━━━━━━\u001b[0m\u001b[37m\u001b[0m \u001b[1m1564s\u001b[0m 3s/step - AUC: 0.7861 - loss: 0.2157\n"
     ]
    },
    {
     "name": "stderr",
     "output_type": "stream",
     "text": [
      "2024-11-18 12:11:00.574032: I tensorflow/core/framework/local_rendezvous.cc:405] Local rendezvous is aborting with status: OUT_OF_RANGE: End of sequence\n",
      "\t [[{{node IteratorGetNext}}]]\n",
      "2024-11-18 12:11:00.574088: I tensorflow/core/framework/local_rendezvous.cc:405] Local rendezvous is aborting with status: OUT_OF_RANGE: End of sequence\n",
      "\t [[{{node IteratorGetNext}}]]\n",
      "\t [[IteratorGetNext/_18]]\n",
      "2024-11-18 12:11:00.574099: I tensorflow/core/framework/local_rendezvous.cc:424] Local rendezvous recv item cancelled. Key hash: 9638904989804753353\n",
      "2024-11-18 12:11:00.574104: I tensorflow/core/framework/local_rendezvous.cc:424] Local rendezvous recv item cancelled. Key hash: 4288215728630536819\n",
      "2024-11-18 12:11:00.574111: I tensorflow/core/framework/local_rendezvous.cc:424] Local rendezvous recv item cancelled. Key hash: 14349500331753286841\n",
      "2024-11-18 12:11:00.574116: I tensorflow/core/framework/local_rendezvous.cc:424] Local rendezvous recv item cancelled. Key hash: 6954975258179042439\n",
      "2024-11-18 12:11:00.574119: I tensorflow/core/framework/local_rendezvous.cc:424] Local rendezvous recv item cancelled. Key hash: 14609499663039341637\n",
      "2024-11-18 12:11:00.574123: I tensorflow/core/framework/local_rendezvous.cc:424] Local rendezvous recv item cancelled. Key hash: 14657244141636388695\n",
      "2024-11-18 12:11:00.574127: I tensorflow/core/framework/local_rendezvous.cc:424] Local rendezvous recv item cancelled. Key hash: 1479420009253813186\n",
      "2024-11-18 12:11:00.574130: I tensorflow/core/framework/local_rendezvous.cc:424] Local rendezvous recv item cancelled. Key hash: 16620185378777838584\n",
      "2024-11-18 12:11:00.574151: I tensorflow/core/framework/local_rendezvous.cc:424] Local rendezvous recv item cancelled. Key hash: 10097841321871707942\n",
      "/usr/lib/python3.9/contextlib.py:137: UserWarning: Your input ran out of data; interrupting training. Make sure that your dataset or generator can generate at least `steps_per_epoch * epochs` batches. You may need to use the `.repeat()` function when building your dataset.\n",
      "  self.gen.throw(typ, value, traceback)\n",
      "/usr/local/lib/python3.9/dist-packages/keras/src/saving/saving_lib.py:719: UserWarning: Skipping variable loading for optimizer 'rmsprop', because it has 2 variables whereas the saved optimizer has 54 variables. \n",
      "  saveable.load_own_variables(weights_store.get(inner_path))\n"
     ]
    },
    {
     "name": "stdout",
     "output_type": "stream",
     "text": [
      "\u001b[1m491/491\u001b[0m \u001b[32m━━━━━━━━━━━━━━━━━━━━\u001b[0m\u001b[37m\u001b[0m \u001b[1m1613s\u001b[0m 3s/step - AUC: 0.8153 - loss: 0.2007\n"
     ]
    },
    {
     "name": "stderr",
     "output_type": "stream",
     "text": [
      "2024-11-18 12:37:53.547872: I tensorflow/core/framework/local_rendezvous.cc:405] Local rendezvous is aborting with status: OUT_OF_RANGE: End of sequence\n",
      "\t [[{{node IteratorGetNext}}]]\n",
      "\t [[IteratorGetNext/_12]]\n",
      "/usr/lib/python3.9/contextlib.py:137: UserWarning: Your input ran out of data; interrupting training. Make sure that your dataset or generator can generate at least `steps_per_epoch * epochs` batches. You may need to use the `.repeat()` function when building your dataset.\n",
      "  self.gen.throw(typ, value, traceback)\n",
      "2024-11-18 12:37:53.548003: I tensorflow/core/framework/local_rendezvous.cc:424] Local rendezvous recv item cancelled. Key hash: 9638904989804753353\n",
      "2024-11-18 12:37:53.548011: I tensorflow/core/framework/local_rendezvous.cc:424] Local rendezvous recv item cancelled. Key hash: 4288215728630536819\n",
      "2024-11-18 12:37:53.548016: I tensorflow/core/framework/local_rendezvous.cc:424] Local rendezvous recv item cancelled. Key hash: 14609499663039341637\n",
      "2024-11-18 12:37:53.548020: I tensorflow/core/framework/local_rendezvous.cc:424] Local rendezvous recv item cancelled. Key hash: 6954975258179042439\n",
      "2024-11-18 12:37:53.548023: I tensorflow/core/framework/local_rendezvous.cc:424] Local rendezvous recv item cancelled. Key hash: 14349500331753286841\n",
      "2024-11-18 12:37:53.548027: I tensorflow/core/framework/local_rendezvous.cc:424] Local rendezvous recv item cancelled. Key hash: 14657244141636388695\n",
      "2024-11-18 12:37:53.548035: I tensorflow/core/framework/local_rendezvous.cc:424] Local rendezvous recv item cancelled. Key hash: 16620185378777838584\n",
      "2024-11-18 12:37:53.548038: I tensorflow/core/framework/local_rendezvous.cc:424] Local rendezvous recv item cancelled. Key hash: 1479420009253813186\n",
      "2024-11-18 12:37:53.548059: I tensorflow/core/framework/local_rendezvous.cc:424] Local rendezvous recv item cancelled. Key hash: 10097841321871707942\n"
     ]
    }
   ],
   "source": [
    "test_data = make_tf_loader(data_root = TORNET_DATA_INPUT_FOLDER, \n",
    "                              data_type = \"test\",\n",
    "                              years = list(range(2013, 2023)),\n",
    "                              batch_size = 64, \n",
    "                              weights = None,\n",
    "                              include_az = False,\n",
    "                              random_state = 5678,\n",
    "                              select_keys = ALL_VARIABLES + [\"coordinates\", \"range_folded_mask\"],\n",
    "                              tilt_last = True,\n",
    "                              from_tfds = False,\n",
    "                              tfds_data_version =\"1.1.0\")\n",
    "\n",
    "for epoch_num in range(3, 5):\n",
    "    metrics = [keras.metrics.AUC(from_logits=True,name='AUC')]\n",
    "    checkpoint_loader(\"checkpoints/epoch_1e-4_test_{}.weights.h5\".format(str(epoch_num)), model)\n",
    "    model.compile(loss=loss, metrics=metrics)\n",
    "    model.evaluate(test_data)"
   ]
  },
  {
   "cell_type": "markdown",
   "id": "4fd964a8-f812-49e4-8ee8-752405c0e07d",
   "metadata": {},
   "source": [
    "## Results\n",
    "| Epoch Number | Training Loss | Validation AUC |\n",
    "|--------------|---------------|----------------|\n",
    "| 1            | 1.1840        | 0.6884         |\n",
    "| 2            | 0.2602        | 0.7462         |\n",
    "| 3            | 0.2322        | 0.7861         |\n",
    "| 4            | 0.2203        | 0.8153         |"
   ]
  },
  {
   "cell_type": "markdown",
   "id": "4f3a599d-2123-4d3a-94a0-4ca9e5c95a68",
   "metadata": {},
   "source": [
    "We'll be running more epochs in the coming days just to double-check, but so far, our learning rate choice seems a lot better than 10^-3 (which was diverging after just one epoch of data).\n",
    " |   |"
   ]
  },
  {
   "cell_type": "markdown",
   "id": "31f26907-a0e4-4115-9919-0d082c2ad523",
   "metadata": {},
   "source": [
    "With only four epochs completed (and still more progress possible, seemingly), it seems like validation AUC is continuing to increase with each iteration. According to the paper, we should eventually see around a .874 validation AUC after training is done, but we already see .815 after four epochs. (In the paper, we reached .81 after two epochs, but the paper seems to have been using (if their code's default parameters were being used) a learning rate that was 10x in scale - so it's not too much of a surprise that our version is requiring a few more epochs to get to the same degree of success.)\n",
    "\n",
    "Of note - it might be worth considering a learning rate decay for later epochs of training here. Given the smaller batch size that we're using compared to the original paper, learning rate decay might help dampen any noisiness being caused by the size of the batches as we approach the optimal weights for the model. This insight might also come in handy for when we train our later epochs in the augmented dataset runs of the model (which we hope improves performance by increasing the number of tornadic examples)."
   ]
  },
  {
   "cell_type": "code",
   "execution_count": null,
   "id": "1eab079f-5974-49db-a33c-9c705eccb9db",
   "metadata": {},
   "outputs": [],
   "source": []
  },
  {
   "cell_type": "code",
   "execution_count": null,
   "id": "9fa0c1a9-ba9f-4b48-9a26-089dcc391e83",
   "metadata": {},
   "outputs": [],
   "source": []
  }
 ],
 "metadata": {
  "kernelspec": {
   "display_name": "Python 3 (ipykernel)",
   "language": "python",
   "name": "python3"
  },
  "language_info": {
   "codemirror_mode": {
    "name": "ipython",
    "version": 3
   },
   "file_extension": ".py",
   "mimetype": "text/x-python",
   "name": "python",
   "nbconvert_exporter": "python",
   "pygments_lexer": "ipython3",
   "version": "3.9.20"
  }
 },
 "nbformat": 4,
 "nbformat_minor": 5
}
